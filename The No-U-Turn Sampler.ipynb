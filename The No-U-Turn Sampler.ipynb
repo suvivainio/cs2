{
 "cells": [
  {
   "cell_type": "markdown",
   "metadata": {},
   "source": [
    "# The No U-Turn Sampler\n",
    "\n",
    "Hoffman & Gelman 2011: The No U-Turn Sampler\n",
    "* implement algorithms 1 (basic HMC) & 6 (NUTS with dual averaging)\n",
    "* test that your implementations work by replicating the following tests in Section 4.1:\n",
    " * 250-dimensional Gaussian\n",
    " * Bayesian logistic regression & hierarchical Bayesian logistic regression on the UCI german credit data\n",
    " * compare the results given by basic HMC & NUTS\n",
    " * compare your results with the same models run in Stan using the provided NUTS sampler\n",
    "  * see e.g. mc-stan.org/users/interfaces/pystan.html"
   ]
  },
  {
   "cell_type": "markdown",
   "metadata": {},
   "source": [
    "## General notes\n",
    "Both the No-U-turn sampler and the HMC sampler only return latter half of the sample.\n",
    "I've aimed at a between 50 and 60 percent acceptance rate for the accepted half.\n",
    "\n",
    "To avoid variable names overlapping, each part resets the variables.\n",
    "\n",
    "Functions for checking the convergence:\n",
    "- ChainMix.py: between- and within chains mixing (BDA3, p. 284, formula 11.3); every chain is splitted into two halves, as the writers suggest in the footnote on p. 285"
   ]
  },
  {
   "cell_type": "markdown",
   "metadata": {},
   "source": [
    "## Algorithm 1: Basic hamiltonian Monte Carlo\n",
    "file: HMC.py"
   ]
  },
  {
   "cell_type": "markdown",
   "metadata": {},
   "source": [
    "## Algorithm 6: Efficient No-U-Turn sampler\n",
    "file: noUturnSampler.py"
   ]
  },
  {
   "cell_type": "markdown",
   "metadata": {},
   "source": [
    "# Test case 0: simple linear regression\n",
    "First test is a simple linear regression with coefficients alpha=theta[0]=10 and\n",
    "beta=theta[1]=5. This test is for to roughly see that the sampler works."
   ]
  },
  {
   "cell_type": "code",
   "execution_count": 96,
   "metadata": {
    "scrolled": true
   },
   "outputs": [
    {
     "name": "stdout",
     "output_type": "stream",
     "text": [
      "Once deleted, variables cannot be recovered. Proceed (y/[n])? Y\n"
     ]
    },
    {
     "data": {
      "image/png": "[encoded data removed]",
      "text/plain": [
       "<Figure size 432x288 with 1 Axes>"
      ]
     },
     "metadata": {},
     "output_type": "display_data"
    }
   ],
   "source": [
    "%reset\n",
    "import autograd.numpy as np\n",
    "import autograd.numpy.random as npr\n",
    "import autograd\n",
    "import matplotlib.pyplot as plt\n",
    "import noUturnSampler\n",
    "import HMC\n",
    "npr.seed(42)\n",
    "# Always import the newest version of the samplers\n",
    "import importlib\n",
    "importlib.reload(noUturnSampler)\n",
    "importlib.reload(HMC)\n",
    "\n",
    "def LikelihoodTest0(theta, x, y, sigma2=1.0):\n",
    "    return np.sum(-1/(2*sigma2)*(y-theta[0]-theta[1]*x)**2)\n",
    "\n",
    "test0x=np.linspace(-3, 3, 200)\n",
    "test0y=10+5*test0x+npr.normal(size=200)\n",
    "# beta values for data generation are: [10, 5]\n",
    "plt.scatter(test0x,test0y)\n",
    "plt.plot(np.linspace(-5,5,200), 10+5*np.linspace(-5,5,200))\n",
    "\n",
    "SimpleRegression=lambda x: LikelihoodTest0(x, test0x, test0y, sigma2=1.0)"
   ]
  },
  {
   "cell_type": "markdown",
   "metadata": {},
   "source": [
    "### HMC"
   ]
  },
  {
   "cell_type": "code",
   "execution_count": 98,
   "metadata": {},
   "outputs": [
    {
     "name": "stdout",
     "output_type": "stream",
     "text": [
      "All in all accepted:  1000.0 , proportion:  1.0\n",
      "Accepted:  499.0\n",
      "Acceptance rate:  0.998\n",
      "alpha:  9.951499692057542 beta:  5.030872427511103\n"
     ]
    },
    {
     "data": {
      "text/plain": [
       "<matplotlib.collections.PathCollection at 0x2c6789f6320>"
      ]
     },
     "execution_count": 98,
     "metadata": {},
     "output_type": "execute_result"
    },
    {
     "data": {
      "image/png": "[encoded data removed]",
      "text/plain": [
       "<Figure size 432x288 with 2 Axes>"
      ]
     },
     "metadata": {},
     "output_type": "display_data"
    },
    {
     "data": {
      "image/png": "[encoded data removed]",
      "text/plain": [
       "<Figure size 432x288 with 1 Axes>"
      ]
     },
     "metadata": {},
     "output_type": "display_data"
    }
   ],
   "source": [
    "np.seterr('raise')\n",
    "test0theta, test0r = HMC.basicHmc(np.array([-10.0, -10.0]), 0.001, 40, SimpleRegression, 1000)\n",
    "\n",
    "print('alpha: ', np.mean(test0theta[:,0]), 'beta: ', np.mean(test0theta[:,1]))\n",
    "fig2, (ax2, ax3) = plt.subplots(nrows=2, ncols=1) # two axes on figure\n",
    "ax2.hist(test0theta[:, 0])\n",
    "ax3.hist(test0theta[:,1])\n",
    "\n",
    "fig3, (plot1) = plt.subplots(nrows=1, ncols=1)\n",
    "plot1.plot(np.linspace(-5,5,200), np.mean(test0theta[:,0])+np.mean(test0theta[:,1])*np.linspace(-5,5,200))\n",
    "plt.scatter(test0x, test0y)"
   ]
  },
  {
   "cell_type": "markdown",
   "metadata": {},
   "source": [
    "### No-U-Turn sampler"
   ]
  },
  {
   "cell_type": "code",
   "execution_count": 99,
   "metadata": {},
   "outputs": [
    {
     "name": "stdout",
     "output_type": "stream",
     "text": [
      "Alpha value:  9.960636513775752\n",
      "Beta value:  5.038450641565703\n"
     ]
    },
    {
     "data": {
      "image/png": "[encoded data removed]",
      "text/plain": [
       "<Figure size 432x288 with 2 Axes>"
      ]
     },
     "metadata": {},
     "output_type": "display_data"
    }
   ],
   "source": [
    "import importlib\n",
    "importlib.reload(noUturnSampler)\n",
    "\n",
    "np.seterr('raise')\n",
    "# def NoUTurn(theta0, delta, fLikelihood, nSamples, nSamplesAdapt)\n",
    "sample0UTurn, epsilonHist0=noUturnSampler.NoUTurn(np.array([1.0,1.0]), 0.60, SimpleRegression, 1000,500, testRun=False)\n",
    "\n",
    "fig3, (plot1,plot2) = plt.subplots(nrows=1, ncols=2)\n",
    "plot1.hist(sample0UTurn[:,0])\n",
    "plot2.hist(sample0UTurn[:,1])\n",
    "print('Alpha value: ',np.mean(sample0UTurn[:,0]))\n",
    "print('Beta value: ', np.mean(sample0UTurn[50:,1]))"
   ]
  },
  {
   "cell_type": "markdown",
   "metadata": {},
   "source": [
    "# Bayesian logistic regression"
   ]
  },
  {
   "cell_type": "markdown",
   "metadata": {},
   "source": [
    "Metadata from Harvard data verse: https://dataverse.harvard.edu/dataset.xhtml?persistentId=doi:10.7910/DVN/Q8MAW8\n",
    "\n",
    "Original data from: https://archive.ics.uci.edu/ml/datasets/Statlog+(German+Credit+Data), using the file \"german.data-numeric\" version produced by Strathclyde University. Changes made: \n",
    "- changed the ordering of Attribute 3 (Credit History) to try to extract monotone relationship: ORIGINAL ORDERING: A30 : no credits taken/all credits paid back duly, A31 : all credits at this bank paid back duly, A32 : existing credits paid back duly till now, A33 : delay in paying off in the past, A34 : critical account/other credits existing (not at this bank)) NEW ORDERING: 0=all credits paid back (A31) 1=all credits paid back duly til now (A32) 2= no credits taken (A30) 3= delay in past (A33) 4=critical acct (A34). \n",
    "\n",
    "\n",
    "ATTRIBUTES: \n",
    "1 BalanceCheque\n",
    "2 Loan NurnMonth\n",
    "3 CreditHistory \n",
    "4 CreditAmt \n",
    "5 SavingsBalance \n",
    "6 Mths in PresentEmployment \n",
    "7 PersonStatusSex \n",
    "8 PresentResidenceSince \n",
    "9 Property \n",
    "10 AgeInYears \n",
    "11 OtherInstallmentPlans (highest val is NO other installment plans) \n",
    "12 NumExistingCreditsThisBank \n",
    "13 NumPplLiablMaint \n",
    "14 Telephone \n",
    "15 ForeignWorker \n",
    "16 Purpose-CarNew \n",
    "17 Purpose-CarOld \n",
    "18 otherdebtor-none (compared to guarantor) \n",
    "19 otherdebt-coappl (compared to guarantor) \n",
    "20 house-rent (compared to 'for free') \n",
    "21 house-owns (compared to 'for free') \n",
    "22 job-unemployed (vs mgt) \n",
    "23 jobs-unskilled (vs mgt) \n",
    "24 job-skilled (vs mgt) "
   ]
  },
  {
   "cell_type": "code",
   "execution_count": 137,
   "metadata": {},
   "outputs": [
    {
     "name": "stderr",
     "output_type": "stream",
     "text": [
      "C:\\Users\\Suvi\\Anaconda3\\lib\\site-packages\\ipykernel_launcher.py:31: RuntimeWarning: invalid value encountered in true_divide\n"
     ]
    }
   ],
   "source": [
    "#%reset\n",
    "import autograd.numpy as np\n",
    "import autograd.numpy.random as npr\n",
    "# Download data and standardize X\n",
    "# Should have values 1 or -1\n",
    "import pandas as pd\n",
    "from sklearn.linear_model import LogisticRegression\n",
    "import matplotlib.pyplot as plt\n",
    "%matplotlib inline\n",
    "import HMC\n",
    "import noUturnSampler\n",
    "import ChainMix\n",
    "import Neff\n",
    "import LikelihoodFunctions\n",
    "import importlib\n",
    "importlib.reload(HMC)\n",
    "importlib.reload(ChainMix)\n",
    "importlib.reload(noUturnSampler)\n",
    "importlib.reload(Neff)\n",
    "importlib.reload(LikelihoodFunctions)\n",
    "\n",
    "npr.seed(42)\n",
    "np.seterr('warn')\n",
    "\n",
    "credit0= pd.read_csv('dataGerman.tab', delim_whitespace=True)\n",
    "\n",
    "creditY=np.array(credit0['CREDITRATING'])\n",
    "# Add alpha column=1.0 to make calculations easier\n",
    "credit0.insert(0, 'alpha', np.ones(len(credit0)))\n",
    "creditX0=np.array(credit0.loc[:, credit0.columns != 'CREDITRATING'])\n",
    "creditX=(creditX0 - np.mean(creditX0, axis=0))/np.std(creditX0, axis=0)\n",
    "creditX[:,0]=1.0\n",
    "\n",
    "# Solve beta values for comparison\n",
    "logistic = LogisticRegression(fit_intercept=False)\n",
    "betaCoefficients=logistic.fit(creditX,creditY).coef_\n",
    "\n",
    "lBayesLRX=lambda theta0: LikelihoodFunctions.lBayesLR(theta0, creditX, creditY)"
   ]
  },
  {
   "cell_type": "markdown",
   "metadata": {},
   "source": [
    "## HMC"
   ]
  },
  {
   "cell_type": "code",
   "execution_count": 113,
   "metadata": {},
   "outputs": [
    {
     "name": "stdout",
     "output_type": "stream",
     "text": [
      "All in all accepted:  1045.0 , proportion:  0.5225\n",
      "Accepted:  524.0\n",
      "Acceptance rate:  0.524\n",
      "All in all accepted:  1014.0 , proportion:  0.507\n",
      "Accepted:  523.0\n",
      "Acceptance rate:  0.523\n"
     ]
    },
    {
     "name": "stderr",
     "output_type": "stream",
     "text": [
      "C:\\Users\\Suvi\\Anaconda3\\lib\\site-packages\\autograd\\tracer.py:48: RuntimeWarning: underflow encountered in exp\n",
      "  return f_raw(*args, **kwargs)\n"
     ]
    },
    {
     "name": "stdout",
     "output_type": "stream",
     "text": [
      "All in all accepted:  1049.0 , proportion:  0.5245\n",
      "Accepted:  519.0\n",
      "Acceptance rate:  0.519\n",
      "All in all accepted:  1061.0 , proportion:  0.5305\n",
      "Accepted:  519.0\n",
      "Acceptance rate:  0.519\n"
     ]
    }
   ],
   "source": [
    "# Calculate 4 chains with dispersed starting points\n",
    "# Generate 25*1 vector as starting values for theta (=beta coefficients)\n",
    "thetaOriginal1=np.zeros(25)\n",
    "thetaOriginal2=npr.normal(-10.0, 5.0, 25)\n",
    "thetaOriginal3=npr.normal(10.0, 5.0, 25)\n",
    "thetaOriginal4=npr.normal(0.0, 5.0, 25)\n",
    "\n",
    "# Sample size*2 (only the latter half is returned)\n",
    "size=2000\n",
    "hmcTheta0=np.empty([size//2, 25, 4])\n",
    "hmcTheta0[:,:,0], hmcR1 = HMC.basicHmc(thetaOriginal1, 0.08, 20, lBayesLRX, size)\n",
    "hmcTheta0[:,:,1], hmcR2 = HMC.basicHmc(thetaOriginal2, 0.08, 20, lBayesLRX, size)\n",
    "hmcTheta0[:,:,2], hmcR3 = HMC.basicHmc(thetaOriginal3, 0.08, 20, lBayesLRX, size)\n",
    "hmcTheta0[:,:,3], hmcR4 = HMC.basicHmc(thetaOriginal4, 0.08, 20, lBayesLRX, size)"
   ]
  },
  {
   "cell_type": "markdown",
   "metadata": {},
   "source": [
    "### HMC: Chain mixing and effective sample size\n",
    "RHat statistic describes the relation of between- and within-chain variances. Its value is 1 if the chains are perfectly mixed, but value 1.1 (as mentioned is the lecture notes) is considered to be sufficient as a an indicator for the convergence.\n",
    "\n",
    "BDA3 suggests that sufficient effective sample size is at least 5m, so that there is at least 10 independent draws per sequence. (p 287)"
   ]
  },
  {
   "cell_type": "code",
   "execution_count": 114,
   "metadata": {},
   "outputs": [
    {
     "name": "stdout",
     "output_type": "stream",
     "text": [
      "RHat statistics for the parameters are:  [8.76323958 5.7452999  2.98924332 2.75952024 1.42923416 3.02700149\n",
      " 1.7079029  1.5887599  1.00618274 1.55631392 1.25789276 2.20315335\n",
      " 1.56003774 1.01960065 1.40853491 1.79369114 2.30021231 2.25476743\n",
      " 1.96366706 1.78842439 1.18511738 1.04286989 1.23549491 1.00255344\n",
      " 0.99987952]\n",
      "vt0 (500, 25, 8)\n",
      "tt (500,)\n",
      "Effective sample size:  [   4.04740015    4.11150913    4.49788068    4.57107407    7.58165705\n",
      "    4.46659157    5.93431079    6.36258744   45.79262338    6.49201827\n",
      "   10.07952909    5.02773144    6.58013731   37.31284966    8.13190918\n",
      "    5.720536      4.93829453    4.98410351    5.36648324    5.85774279\n",
      "   13.23698296   46.56354734   11.05297893 2531.44655228 -146.52502214]\n"
     ]
    },
    {
     "data": {
      "image/png": "[encoded data removed]",
      "text/plain": [
       "<Figure size 432x288 with 1 Axes>"
      ]
     },
     "metadata": {},
     "output_type": "display_data"
    },
    {
     "data": {
      "image/png": "[encoded data removed]",
      "text/plain": [
       "<Figure size 432x288 with 1 Axes>"
      ]
     },
     "metadata": {},
     "output_type": "display_data"
    }
   ],
   "source": [
    "import ConvergenceTests\n",
    "importlib.reload(ConvergenceTests)\n",
    "hmcTheta1=ConvergenceTests.ConvergenceTest(hmcTheta0)\n"
   ]
  },
  {
   "cell_type": "markdown",
   "metadata": {},
   "source": [
    "### HMC: Comparison with frequentist logistic regression coefficients"
   ]
  },
  {
   "cell_type": "code",
   "execution_count": 115,
   "metadata": {},
   "outputs": [
    {
     "name": "stdout",
     "output_type": "stream",
     "text": [
      "Logistic regression coefficients (without sampling):  [[-1.16693394 -0.72428117  0.41863996 -0.38950509  0.14971296 -0.36499316\n",
      "  -0.17983097 -0.15223281  0.0088167   0.17896626 -0.10547967 -0.23223442\n",
      "   0.1752658   0.02906784 -0.13173154 -0.25096542  0.26151383 -0.3013166\n",
      "   0.29946551  0.24939256  0.12501634 -0.06082535 -0.08394011 -0.01848919\n",
      "  -0.00851217]]\n",
      "sample coefficients:  [-0.76523246 -0.46807478  0.27192755 -0.26366781  0.09780697 -0.24062262\n",
      " -0.11617878 -0.09701447  0.00421576  0.1183014  -0.06811993 -0.1504307\n",
      "  0.1222396   0.01383896 -0.08541773 -0.16997234  0.16971056 -0.20107564\n",
      "  0.20049388  0.16571356  0.08315543 -0.03701342 -0.0629756  -0.00998401\n",
      " -0.0045836 ]\n",
      "absolute difference of the coefficients:  [[0.4  0.26 0.15 0.13 0.05 0.12 0.06 0.06 0.   0.06 0.04 0.08 0.05 0.02\n",
      "  0.05 0.08 0.09 0.1  0.1  0.08 0.04 0.02 0.02 0.01 0.  ]]\n",
      "(25,)\n"
     ]
    },
    {
     "data": {
      "text/plain": [
       "Text(0.5,1,'Absolute difference of logistic regression coefficients')"
      ]
     },
     "execution_count": 115,
     "metadata": {},
     "output_type": "execute_result"
    },
    {
     "data": {
      "image/png": "[encoded data removed]",
      "text/plain": [
       "<Figure size 432x288 with 1 Axes>"
      ]
     },
     "metadata": {},
     "output_type": "display_data"
    }
   ],
   "source": [
    "print('Logistic regression coefficients (without sampling): ', betaCoefficients)\n",
    "hmcCoefficients=np.mean(hmcTheta1, axis=(0,2))\n",
    "print('sample coefficients: ', hmcCoefficients)\n",
    "print('absolute difference of the coefficients: ', np.round(abs(betaCoefficients-hmcCoefficients), 2))\n",
    "height0=abs(betaCoefficients-hmcCoefficients)[0,:]\n",
    "print(height0.shape)\n",
    "plt.bar(range(len(height0)),height=height0)\n",
    "plt.title('Absolute difference of logistic regression coefficients')"
   ]
  },
  {
   "cell_type": "markdown",
   "metadata": {},
   "source": [
    "## NUTS sampler "
   ]
  },
  {
   "cell_type": "code",
   "execution_count": null,
   "metadata": {},
   "outputs": [],
   "source": [
    "import LikelihoodFunctions\n",
    "import importlib\n",
    "importlib.reload(HMC)\n",
    "importlib.reload(ChainMix)\n",
    "importlib.reload(noUturnSampler)\n",
    "importlib.reload(Neff)\n",
    "importlib.reload(LikelihoodFunctions)\n",
    "# Reload noUturnSampler-script always anew.\n",
    "import noUturnSampler\n",
    "import importlib\n",
    "importlib.reload(noUturnSampler)\n",
    "np.seterr('warn')\n",
    "np.seed(42)\n",
    "\n",
    "lBayesLRX=lambda theta0: LikelihoodFunctions.lBayesLR(theta0, creditX, creditY)\n",
    "\n",
    "# Sample size*2 (only the latter half is returned)\n",
    "size=2000\n",
    "nutsTheta0=np.empty([size//2, 25, 4])\n",
    "\n",
    "# Print debugging info\n",
    "testRun=False\n",
    "\n",
    "# Calculate 4 chains with dispersed starting points\n",
    "# Generate 25*1 vector as starting values for theta (=beta coefficients)\n",
    "thetaOriginal1=np.zeros(25)\n",
    "thetaOriginal2=npr.normal(-10.0, 5.0, 25)\n",
    "thetaOriginal3=npr.normal(10.0, 5.0, 25)\n",
    "thetaOriginal4=npr.normal(0.0, 5.0, 25)\n",
    "\n",
    "nutsTheta0[:,:,0], nutsEpsilon1 = noUturnSampler.NoUTurn(thetaOriginal1, 0.6, lBayesLRX, size,size//2, testRun)\n",
    "nutsTheta0[:,:,1], nutsEpsilon2 = noUturnSampler.NoUTurn(thetaOriginal2, 0.6, lBayesLRX, size,size//2, testRun)\n",
    "nutsTheta0[:,:,2], nutsEpsilon3 = noUturnSampler.NoUTurn(thetaOriginal3, 0.6, lBayesLRX, size,size//2, testRun)\n",
    "nutsTheta0[:,:,3], nutsEpsilon4 = noUturnSampler.NoUTurn(thetaOriginal4, 0.6, lBayesLRX, size,size//2, testRun)"
   ]
  },
  {
   "cell_type": "code",
   "execution_count": 168,
   "metadata": {},
   "outputs": [
    {
     "name": "stdout",
     "output_type": "stream",
     "text": [
      "[-1.25456565 -0.45902624  1.13205258 -1.25456565 -1.25456565  1.13205258\n",
      "  1.13205258 -0.45902624  1.13205258 -0.45902624 -0.45902624 -1.25456565\n",
      " -0.45902624 -1.25456565 -1.25456565 -1.25456565  1.13205258 -1.25456565\n",
      " -0.45902624  1.13205258  1.13205258 -1.25456565 -1.25456565 -0.45902624\n",
      "  1.13205258 -1.25456565  1.13205258  0.33651317 -0.45902624 -1.25456565\n",
      " -0.45902624 -1.25456565 -0.45902624  1.13205258  0.33651317 -0.45902624\n",
      "  1.13205258  0.33651317  0.33651317 -0.45902624  1.13205258 -0.45902624\n",
      " -0.45902624 -1.25456565 -1.25456565  1.13205258  1.13205258 -1.25456565\n",
      "  1.13205258  1.13205258 -0.45902624 -0.45902624  1.13205258  1.13205258\n",
      " -0.45902624  1.13205258 -0.45902624  1.13205258  0.33651317 -1.25456565\n",
      " -0.45902624 -0.45902624 -0.45902624 -0.45902624  1.13205258  1.13205258\n",
      "  1.13205258 -0.45902624  1.13205258  1.13205258  1.13205258  1.13205258\n",
      " -1.25456565 -0.45902624 -1.25456565 -1.25456565 -1.25456565 -0.45902624\n",
      "  1.13205258 -0.45902624  1.13205258  1.13205258  1.13205258 -1.25456565\n",
      " -1.25456565  1.13205258 -0.45902624 -0.45902624 -1.25456565 -1.25456565\n",
      "  1.13205258 -1.25456565  1.13205258  0.33651317 -0.45902624 -0.45902624\n",
      "  1.13205258 -0.45902624 -0.45902624 -0.45902624  1.13205258 -0.45902624\n",
      "  1.13205258 -0.45902624  1.13205258 -0.45902624  1.13205258 -0.45902624\n",
      " -1.25456565 -0.45902624 -0.45902624  0.33651317 -0.45902624  1.13205258\n",
      " -1.25456565  1.13205258 -1.25456565 -1.25456565 -1.25456565 -0.45902624\n",
      " -1.25456565  1.13205258  1.13205258  0.33651317 -0.45902624 -1.25456565\n",
      " -1.25456565 -0.45902624 -0.45902624 -1.25456565 -0.45902624 -1.25456565\n",
      "  1.13205258  1.13205258  1.13205258  1.13205258  1.13205258 -0.45902624\n",
      " -0.45902624  0.33651317  0.33651317 -0.45902624 -1.25456565 -1.25456565\n",
      "  1.13205258 -0.45902624 -1.25456565  1.13205258 -1.25456565  1.13205258\n",
      "  1.13205258  1.13205258  0.33651317 -0.45902624 -0.45902624 -1.25456565\n",
      " -1.25456565 -1.25456565 -0.45902624  1.13205258  1.13205258  1.13205258\n",
      "  1.13205258 -0.45902624  1.13205258  1.13205258 -1.25456565 -0.45902624\n",
      "  1.13205258 -0.45902624 -1.25456565  1.13205258 -0.45902624 -0.45902624\n",
      " -1.25456565  1.13205258 -1.25456565 -1.25456565  1.13205258 -1.25456565\n",
      "  1.13205258 -0.45902624 -1.25456565  1.13205258 -0.45902624  1.13205258\n",
      " -0.45902624 -0.45902624 -1.25456565 -0.45902624  1.13205258 -0.45902624\n",
      " -0.45902624  1.13205258 -0.45902624 -0.45902624  1.13205258 -0.45902624\n",
      " -0.45902624 -0.45902624  1.13205258 -1.25456565  1.13205258 -1.25456565\n",
      "  1.13205258 -1.25456565  1.13205258 -0.45902624 -1.25456565  1.13205258\n",
      "  1.13205258  1.13205258 -1.25456565  0.33651317  1.13205258 -0.45902624\n",
      " -1.25456565  0.33651317 -1.25456565  1.13205258 -0.45902624 -1.25456565\n",
      "  1.13205258  1.13205258  1.13205258  1.13205258 -0.45902624 -1.25456565\n",
      "  1.13205258 -1.25456565  0.33651317  1.13205258  1.13205258 -0.45902624\n",
      "  1.13205258 -1.25456565 -0.45902624 -0.45902624  1.13205258 -1.25456565\n",
      " -1.25456565  1.13205258 -1.25456565  1.13205258  1.13205258  1.13205258\n",
      "  1.13205258  1.13205258  0.33651317  1.13205258 -1.25456565  0.33651317\n",
      " -0.45902624  1.13205258 -0.45902624 -0.45902624  1.13205258 -1.25456565\n",
      "  1.13205258  1.13205258 -1.25456565 -1.25456565 -1.25456565  1.13205258\n",
      "  1.13205258 -0.45902624  1.13205258  1.13205258 -1.25456565  1.13205258\n",
      "  1.13205258  1.13205258 -0.45902624 -0.45902624 -1.25456565  1.13205258\n",
      "  1.13205258 -1.25456565  1.13205258  1.13205258  1.13205258  1.13205258\n",
      "  0.33651317  1.13205258 -0.45902624 -1.25456565 -1.25456565 -0.45902624\n",
      " -0.45902624 -1.25456565  1.13205258 -0.45902624 -1.25456565  0.33651317\n",
      "  1.13205258 -0.45902624  1.13205258  1.13205258  1.13205258 -0.45902624\n",
      "  1.13205258 -0.45902624  0.33651317 -1.25456565  1.13205258  1.13205258\n",
      "  1.13205258 -1.25456565 -0.45902624 -0.45902624 -0.45902624  1.13205258\n",
      "  0.33651317 -0.45902624  0.33651317 -1.25456565 -1.25456565 -0.45902624\n",
      "  1.13205258 -1.25456565 -0.45902624 -1.25456565 -1.25456565 -1.25456565\n",
      "  1.13205258 -1.25456565  1.13205258  1.13205258  0.33651317 -0.45902624\n",
      " -1.25456565  1.13205258 -0.45902624  1.13205258 -1.25456565 -1.25456565\n",
      " -0.45902624 -1.25456565 -1.25456565 -0.45902624 -0.45902624 -1.25456565\n",
      " -0.45902624 -0.45902624  0.33651317  1.13205258 -0.45902624 -0.45902624\n",
      "  1.13205258 -0.45902624  1.13205258 -0.45902624  1.13205258 -1.25456565\n",
      "  1.13205258 -0.45902624  1.13205258  1.13205258  1.13205258 -1.25456565\n",
      " -0.45902624  0.33651317  0.33651317  1.13205258 -1.25456565  1.13205258\n",
      "  1.13205258 -1.25456565 -1.25456565 -0.45902624  1.13205258  1.13205258\n",
      "  1.13205258  1.13205258 -0.45902624 -1.25456565  1.13205258  1.13205258\n",
      " -0.45902624  1.13205258 -1.25456565 -0.45902624  1.13205258  0.33651317\n",
      "  1.13205258  1.13205258  1.13205258 -0.45902624 -0.45902624  1.13205258\n",
      "  1.13205258 -0.45902624 -1.25456565 -1.25456565  1.13205258 -0.45902624\n",
      " -1.25456565 -1.25456565 -0.45902624  1.13205258  1.13205258 -0.45902624\n",
      "  1.13205258  1.13205258 -0.45902624 -0.45902624  1.13205258 -1.25456565\n",
      "  1.13205258  0.33651317 -0.45902624  1.13205258  1.13205258  1.13205258\n",
      " -1.25456565  1.13205258 -1.25456565 -1.25456565  1.13205258 -0.45902624\n",
      "  1.13205258 -0.45902624 -0.45902624  1.13205258 -0.45902624 -0.45902624\n",
      "  1.13205258  1.13205258  1.13205258 -1.25456565  1.13205258 -0.45902624\n",
      " -1.25456565  1.13205258 -1.25456565 -0.45902624  1.13205258  1.13205258\n",
      " -1.25456565  0.33651317  1.13205258 -1.25456565 -0.45902624  1.13205258\n",
      " -0.45902624  1.13205258 -1.25456565 -0.45902624  0.33651317 -0.45902624\n",
      "  1.13205258  1.13205258  1.13205258  1.13205258 -1.25456565  1.13205258\n",
      " -1.25456565 -1.25456565 -1.25456565  1.13205258 -1.25456565 -1.25456565\n",
      " -0.45902624 -0.45902624  1.13205258 -1.25456565 -1.25456565  1.13205258\n",
      "  1.13205258  1.13205258 -0.45902624 -1.25456565 -1.25456565  1.13205258\n",
      " -0.45902624 -1.25456565  1.13205258  0.33651317 -0.45902624 -1.25456565\n",
      " -0.45902624 -0.45902624 -1.25456565  1.13205258  1.13205258 -0.45902624\n",
      "  1.13205258  1.13205258  1.13205258  1.13205258  1.13205258 -0.45902624\n",
      "  1.13205258 -0.45902624 -1.25456565 -1.25456565 -0.45902624  1.13205258\n",
      " -0.45902624  0.33651317 -1.25456565 -1.25456565  0.33651317 -0.45902624\n",
      " -1.25456565  1.13205258  0.33651317 -0.45902624  1.13205258  1.13205258\n",
      " -1.25456565  1.13205258  0.33651317 -0.45902624  1.13205258 -1.25456565\n",
      " -1.25456565  1.13205258 -1.25456565  1.13205258  1.13205258 -1.25456565\n",
      " -1.25456565  1.13205258 -0.45902624 -0.45902624  1.13205258  1.13205258\n",
      " -1.25456565 -1.25456565 -0.45902624 -0.45902624  1.13205258  1.13205258\n",
      "  1.13205258  0.33651317 -1.25456565 -0.45902624 -1.25456565  0.33651317\n",
      " -0.45902624  1.13205258 -1.25456565  0.33651317  1.13205258 -1.25456565\n",
      "  1.13205258  1.13205258 -1.25456565  1.13205258  1.13205258  1.13205258\n",
      " -1.25456565 -0.45902624 -0.45902624 -0.45902624 -0.45902624  1.13205258\n",
      " -1.25456565 -0.45902624 -1.25456565 -1.25456565  0.33651317 -0.45902624\n",
      " -0.45902624 -0.45902624 -1.25456565  1.13205258 -0.45902624 -1.25456565\n",
      " -1.25456565  1.13205258  1.13205258 -1.25456565 -0.45902624  1.13205258\n",
      " -0.45902624  1.13205258 -0.45902624  1.13205258 -0.45902624 -0.45902624\n",
      "  1.13205258 -0.45902624  1.13205258 -1.25456565 -1.25456565 -1.25456565\n",
      " -1.25456565 -1.25456565 -1.25456565 -0.45902624  1.13205258 -0.45902624\n",
      " -1.25456565 -0.45902624 -1.25456565 -0.45902624  1.13205258  1.13205258\n",
      " -0.45902624 -0.45902624 -0.45902624  1.13205258  0.33651317 -1.25456565\n",
      "  1.13205258 -0.45902624  1.13205258  1.13205258 -1.25456565  0.33651317\n",
      " -1.25456565 -1.25456565  1.13205258 -0.45902624 -0.45902624 -1.25456565\n",
      " -0.45902624  1.13205258 -0.45902624  1.13205258  1.13205258 -1.25456565\n",
      " -1.25456565  1.13205258  0.33651317 -0.45902624  1.13205258  1.13205258\n",
      " -1.25456565 -1.25456565 -0.45902624  1.13205258 -0.45902624  1.13205258\n",
      "  1.13205258  1.13205258  1.13205258 -1.25456565 -1.25456565 -0.45902624\n",
      "  1.13205258  1.13205258 -1.25456565  1.13205258 -1.25456565  1.13205258\n",
      "  0.33651317 -1.25456565 -1.25456565 -0.45902624 -1.25456565 -0.45902624\n",
      "  1.13205258 -1.25456565 -0.45902624  1.13205258 -0.45902624 -0.45902624\n",
      "  0.33651317 -1.25456565  1.13205258 -0.45902624  0.33651317  1.13205258\n",
      " -0.45902624  1.13205258 -1.25456565  0.33651317  1.13205258  1.13205258\n",
      "  1.13205258  1.13205258  1.13205258  1.13205258  1.13205258 -0.45902624\n",
      " -1.25456565  1.13205258  1.13205258  1.13205258  1.13205258  1.13205258\n",
      " -0.45902624  1.13205258  0.33651317 -0.45902624  1.13205258 -1.25456565\n",
      " -1.25456565 -0.45902624 -0.45902624 -1.25456565  1.13205258  1.13205258\n",
      " -0.45902624  1.13205258  1.13205258  0.33651317  1.13205258 -1.25456565\n",
      "  0.33651317 -0.45902624 -0.45902624  1.13205258 -0.45902624 -0.45902624\n",
      " -0.45902624 -0.45902624  1.13205258 -1.25456565  1.13205258 -1.25456565\n",
      " -0.45902624  1.13205258  1.13205258  1.13205258  0.33651317 -0.45902624\n",
      "  0.33651317 -0.45902624 -1.25456565 -0.45902624  1.13205258  1.13205258\n",
      "  1.13205258 -1.25456565 -0.45902624  0.33651317 -0.45902624 -1.25456565\n",
      " -0.45902624  1.13205258  1.13205258 -0.45902624 -0.45902624 -1.25456565\n",
      "  1.13205258 -0.45902624 -1.25456565 -0.45902624  1.13205258 -1.25456565\n",
      " -1.25456565 -1.25456565 -1.25456565 -1.25456565  1.13205258  1.13205258\n",
      " -1.25456565 -1.25456565 -0.45902624  1.13205258  1.13205258 -1.25456565\n",
      "  0.33651317  0.33651317  1.13205258 -1.25456565  1.13205258 -1.25456565\n",
      " -1.25456565  1.13205258  1.13205258 -0.45902624 -1.25456565  1.13205258\n",
      " -0.45902624  1.13205258 -1.25456565 -1.25456565  1.13205258  1.13205258\n",
      "  0.33651317 -1.25456565  1.13205258 -1.25456565  1.13205258 -0.45902624\n",
      " -0.45902624  1.13205258 -0.45902624 -0.45902624 -0.45902624 -0.45902624\n",
      "  1.13205258  1.13205258 -0.45902624 -1.25456565 -0.45902624  1.13205258\n",
      "  1.13205258  0.33651317  1.13205258  1.13205258 -1.25456565  1.13205258\n",
      "  1.13205258 -0.45902624  1.13205258 -0.45902624 -1.25456565  1.13205258\n",
      " -0.45902624 -1.25456565 -0.45902624  1.13205258 -0.45902624 -0.45902624\n",
      " -0.45902624 -0.45902624 -1.25456565 -1.25456565 -1.25456565 -0.45902624\n",
      "  1.13205258  1.13205258 -1.25456565 -1.25456565  1.13205258  0.33651317\n",
      " -1.25456565 -1.25456565  1.13205258 -1.25456565 -1.25456565  1.13205258\n",
      " -1.25456565 -0.45902624  1.13205258 -1.25456565 -1.25456565 -0.45902624\n",
      "  0.33651317 -1.25456565  1.13205258  1.13205258 -1.25456565  1.13205258\n",
      " -1.25456565  1.13205258  1.13205258  1.13205258  1.13205258 -0.45902624\n",
      "  1.13205258  1.13205258 -1.25456565 -1.25456565 -1.25456565  1.13205258\n",
      "  1.13205258 -1.25456565  1.13205258  1.13205258  1.13205258  1.13205258\n",
      " -1.25456565  1.13205258  1.13205258  1.13205258 -1.25456565  1.13205258\n",
      "  1.13205258  1.13205258 -1.25456565  1.13205258  1.13205258 -1.25456565\n",
      "  1.13205258  0.33651317 -1.25456565  1.13205258 -1.25456565 -0.45902624\n",
      " -1.25456565  1.13205258 -1.25456565  1.13205258  1.13205258  1.13205258\n",
      " -0.45902624  1.13205258 -0.45902624 -1.25456565 -0.45902624 -0.45902624\n",
      "  1.13205258  1.13205258 -1.25456565  1.13205258 -1.25456565 -0.45902624\n",
      "  1.13205258  1.13205258 -1.25456565  1.13205258  1.13205258 -1.25456565\n",
      " -1.25456565  1.13205258  1.13205258  1.13205258  1.13205258 -1.25456565\n",
      " -1.25456565 -0.45902624  1.13205258 -0.45902624  1.13205258 -0.45902624\n",
      " -0.45902624  1.13205258 -1.25456565 -0.45902624  1.13205258 -1.25456565\n",
      " -1.25456565 -1.25456565  1.13205258  1.13205258 -1.25456565 -0.45902624\n",
      " -1.25456565 -1.25456565 -1.25456565 -1.25456565  1.13205258 -1.25456565\n",
      " -1.25456565 -0.45902624  1.13205258  1.13205258 -1.25456565 -0.45902624\n",
      "  0.33651317 -0.45902624 -0.45902624  1.13205258  1.13205258  1.13205258\n",
      "  1.13205258  1.13205258 -1.25456565 -0.45902624 -1.25456565  1.13205258\n",
      "  1.13205258  1.13205258 -0.45902624 -1.25456565 -0.45902624  1.13205258\n",
      " -1.25456565 -1.25456565  0.33651317 -0.45902624 -1.25456565 -0.45902624\n",
      "  1.13205258 -0.45902624  1.13205258  1.13205258 -0.45902624 -0.45902624\n",
      " -0.45902624  1.13205258  1.13205258 -1.25456565 -0.45902624  1.13205258\n",
      " -1.25456565 -1.25456565  1.13205258  0.33651317 -0.45902624 -0.45902624\n",
      "  1.13205258 -0.45902624 -0.45902624  1.13205258  0.33651317 -1.25456565\n",
      "  1.13205258 -1.25456565  0.33651317  1.13205258 -1.25456565 -0.45902624\n",
      "  1.13205258  1.13205258 -1.25456565 -1.25456565  1.13205258  1.13205258\n",
      " -1.25456565  1.13205258 -1.25456565 -0.45902624]\n"
     ]
    }
   ],
   "source": []
  },
  {
   "cell_type": "markdown",
   "metadata": {},
   "source": [
    "### NUTS: Chain mixing"
   ]
  },
  {
   "cell_type": "code",
   "execution_count": null,
   "metadata": {},
   "outputs": [],
   "source": [
    "%matplotlib inline\n",
    "nutsTheta1=ConvergenceTests.ConvergenceTest(nutsTheta0)"
   ]
  },
  {
   "cell_type": "code",
   "execution_count": 141,
   "metadata": {},
   "outputs": [
    {
     "data": {
      "text/plain": [
       "(8,)"
      ]
     },
     "execution_count": 141,
     "metadata": {},
     "output_type": "execute_result"
    }
   ],
   "source": [
    "test=np.array([1.0,2.0,3.0,4.0,1.0,2.0,3.0,4.0])\n",
    "test[test<3]=0\n",
    "test.shape"
   ]
  },
  {
   "cell_type": "markdown",
   "metadata": {},
   "source": [
    "### NUTS: comparison of the regression coefficients"
   ]
  },
  {
   "cell_type": "code",
   "execution_count": 83,
   "metadata": {},
   "outputs": [
    {
     "name": "stdout",
     "output_type": "stream",
     "text": [
      "Logistic regression coefficients (without sampling):  [[-1.16693394 -0.72428117  0.41863996 -0.38950509  0.14971296 -0.36499316\n",
      "  -0.17983097 -0.15223281  0.0088167   0.17896626 -0.10547967 -0.23223442\n",
      "   0.1752658   0.02906784 -0.13173154 -0.25096542  0.26151383 -0.3013166\n",
      "   0.29946551  0.24939256  0.12501634 -0.06082535 -0.08394011 -0.01848919\n",
      "  -0.00851217]]\n"
     ]
    },
    {
     "ename": "NameError",
     "evalue": "name 'nutsTheta1' is not defined",
     "output_type": "error",
     "traceback": [
      "\u001b[1;31m---------------------------------------------------------------------------\u001b[0m",
      "\u001b[1;31mNameError\u001b[0m                                 Traceback (most recent call last)",
      "\u001b[1;32m<ipython-input-83-c35bee00ebfc>\u001b[0m in \u001b[0;36m<module>\u001b[1;34m()\u001b[0m\n\u001b[0;32m      1\u001b[0m \u001b[0mprint\u001b[0m\u001b[1;33m(\u001b[0m\u001b[1;34m'Logistic regression coefficients (without sampling): '\u001b[0m\u001b[1;33m,\u001b[0m \u001b[0mbetaCoefficients\u001b[0m\u001b[1;33m)\u001b[0m\u001b[1;33m\u001b[0m\u001b[0m\n\u001b[1;32m----> 2\u001b[1;33m \u001b[0mnutsCoefficients\u001b[0m\u001b[1;33m=\u001b[0m\u001b[0mnp\u001b[0m\u001b[1;33m.\u001b[0m\u001b[0mmean\u001b[0m\u001b[1;33m(\u001b[0m\u001b[0mnutsTheta1\u001b[0m\u001b[1;33m,\u001b[0m \u001b[0maxis\u001b[0m\u001b[1;33m=\u001b[0m\u001b[1;33m(\u001b[0m\u001b[1;36m0\u001b[0m\u001b[1;33m,\u001b[0m\u001b[1;36m2\u001b[0m\u001b[1;33m)\u001b[0m\u001b[1;33m)\u001b[0m\u001b[1;33m\u001b[0m\u001b[0m\n\u001b[0m\u001b[0;32m      3\u001b[0m \u001b[0mprint\u001b[0m\u001b[1;33m(\u001b[0m\u001b[1;34m'sample coefficients: '\u001b[0m\u001b[1;33m,\u001b[0m \u001b[0mnutsCoefficients\u001b[0m\u001b[1;33m)\u001b[0m\u001b[1;33m\u001b[0m\u001b[0m\n\u001b[0;32m      4\u001b[0m \u001b[0mprint\u001b[0m\u001b[1;33m(\u001b[0m\u001b[1;34m'absolute difference of the coefficients: '\u001b[0m\u001b[1;33m,\u001b[0m \u001b[0mnp\u001b[0m\u001b[1;33m.\u001b[0m\u001b[0mround\u001b[0m\u001b[1;33m(\u001b[0m\u001b[0mabs\u001b[0m\u001b[1;33m(\u001b[0m\u001b[0mbetaCoefficients\u001b[0m\u001b[1;33m-\u001b[0m\u001b[0mnutsCoefficients\u001b[0m\u001b[1;33m)\u001b[0m\u001b[1;33m,\u001b[0m \u001b[1;36m2\u001b[0m\u001b[1;33m)\u001b[0m\u001b[1;33m)\u001b[0m\u001b[1;33m\u001b[0m\u001b[0m\n\u001b[0;32m      5\u001b[0m \u001b[0mheight0\u001b[0m\u001b[1;33m=\u001b[0m\u001b[0mabs\u001b[0m\u001b[1;33m(\u001b[0m\u001b[0mbetaCoefficients\u001b[0m\u001b[1;33m-\u001b[0m\u001b[0mnutsCoefficients\u001b[0m\u001b[1;33m)\u001b[0m\u001b[1;33m[\u001b[0m\u001b[1;36m0\u001b[0m\u001b[1;33m,\u001b[0m\u001b[1;33m:\u001b[0m\u001b[1;33m]\u001b[0m\u001b[1;33m\u001b[0m\u001b[0m\n",
      "\u001b[1;31mNameError\u001b[0m: name 'nutsTheta1' is not defined"
     ]
    }
   ],
   "source": [
    "print('Logistic regression coefficients (without sampling): ', betaCoefficients)\n",
    "nutsCoefficients=np.mean(nutsTheta1, axis=(0,2))\n",
    "print('sample coefficients: ', nutsCoefficients)\n",
    "print('absolute difference of the coefficients: ', np.round(abs(betaCoefficients-nutsCoefficients), 2))\n",
    "height0=abs(betaCoefficients-nutsCoefficients)[0,:]\n",
    "print(height0.shape)\n",
    "plt.bar(range(len(height0)),height=height0)\n",
    "plt.title('Absolute difference of logistic regression coefficients')"
   ]
  },
  {
   "cell_type": "markdown",
   "metadata": {},
   "source": [
    "# Test case 3: Hierarchical bayesian logistic regression\n",
    "* Same data as above"
   ]
  },
  {
   "cell_type": "code",
   "execution_count": 25,
   "metadata": {},
   "outputs": [
    {
     "name": "stdout",
     "output_type": "stream",
     "text": [
      "Once deleted, variables cannot be recovered. Proceed (y/[n])? y\n"
     ]
    },
    {
     "name": "stderr",
     "output_type": "stream",
     "text": [
      "C:\\Users\\Suvi\\Anaconda3\\lib\\site-packages\\ipykernel_launcher.py:26: RuntimeWarning: invalid value encountered in true_divide\n"
     ]
    }
   ],
   "source": [
    "%reset\n",
    "import autograd.numpy as np\n",
    "import autograd.numpy.random as npr\n",
    "# Download data and standardize X\n",
    "# Should have values 1 or -1\n",
    "import pandas as pd\n",
    "from sklearn.linear_model import LogisticRegression\n",
    "import matplotlib.pyplot as plt\n",
    "%matplotlib inline\n",
    "import HMC\n",
    "import noUturnSampler\n",
    "import ChainMix\n",
    "import Neff\n",
    "import ConvergenceTests\n",
    "import importlib\n",
    "importlib.reload(HMC)\n",
    "importlib.reload(ChainMix)\n",
    "importlib.reload(noUturnSampler)\n",
    "importlib.reload(Neff)\n",
    "importlib.reload(ConvergenceTests)\n",
    "\n",
    "credit0= pd.read_csv('dataGerman.tab', delim_whitespace=True)\n",
    "creditY=np.array(credit0['CREDITRATING'])\n",
    "credit0.insert(0, 'alpha', np.ones(len(credit0)))\n",
    "creditX0=np.array(credit0.loc[:, credit0.columns != 'CREDITRATING'])\n",
    "creditX=(creditX0 - np.mean(creditX0, axis=0))/np.std(creditX0, axis=0)\n",
    "creditX[:,0]=1.0"
   ]
  },
  {
   "cell_type": "code",
   "execution_count": 26,
   "metadata": {},
   "outputs": [],
   "source": [
    "# First parameter in theta is variance\n",
    "# Rest are beta coefficients\n",
    "def lBayesHLR(theta, x, y, lambda0=0.01):\n",
    "    sigma2=np.exp(theta[0])\n",
    "    beta=theta[1:]\n",
    "    prob1=-np.sum(np.log(1+np.exp(-(y[:, np.newaxis]*x)@beta)))-1/(2*sigma2)*beta@beta-len(y)/2*np.log(sigma2)-lambda0*sigma2\n",
    "    return prob1\n",
    "\n",
    "\n",
    "lBayesHLRX=lambda theta0: lBayesHLR(theta0, creditX, creditY)"
   ]
  },
  {
   "cell_type": "markdown",
   "metadata": {},
   "source": [
    "### HMC"
   ]
  },
  {
   "cell_type": "code",
   "execution_count": 27,
   "metadata": {
    "scrolled": true
   },
   "outputs": [
    {
     "name": "stderr",
     "output_type": "stream",
     "text": [
      "C:\\Users\\Suvi\\Anaconda3\\lib\\site-packages\\autograd\\tracer.py:48: RuntimeWarning: overflow encountered in exp\n",
      "  return f_raw(*args, **kwargs)\n",
      "C:\\Users\\Suvi\\Anaconda3\\lib\\site-packages\\autograd\\numpy\\numpy_vjps.py:73: RuntimeWarning: invalid value encountered in multiply\n",
      "  defvjp(anp.exp,    lambda ans, x : lambda g: ans * g)\n",
      "C:\\Users\\Suvi\\Anaconda3\\lib\\site-packages\\autograd\\tracer.py:48: RuntimeWarning: divide by zero encountered in true_divide\n",
      "  return f_raw(*args, **kwargs)\n",
      "C:\\Users\\Suvi\\Anaconda3\\lib\\site-packages\\autograd\\tracer.py:48: RuntimeWarning: divide by zero encountered in log\n",
      "  return f_raw(*args, **kwargs)\n",
      "C:\\Users\\Suvi\\Anaconda3\\lib\\site-packages\\autograd\\numpy\\numpy_vjps.py:76: RuntimeWarning: divide by zero encountered in double_scalars\n",
      "  defvjp(anp.log,    lambda ans, x : lambda g: g / x)\n"
     ]
    },
    {
     "name": "stdout",
     "output_type": "stream",
     "text": [
      "All in all accepted:  184.0 , proportion:  0.92\n",
      "Accepted:  99.0\n",
      "Acceptance rate:  0.99\n"
     ]
    },
    {
     "name": "stderr",
     "output_type": "stream",
     "text": [
      "C:\\Users\\Suvi\\Anaconda3\\lib\\site-packages\\autograd\\tracer.py:48: RuntimeWarning: invalid value encountered in subtract\n",
      "  return f_raw(*args, **kwargs)\n",
      "C:\\Users\\Suvi\\Anaconda3\\lib\\site-packages\\autograd\\numpy\\numpy_vjps.py:53: RuntimeWarning: divide by zero encountered in double_scalars\n",
      "  lambda ans, x, y : unbroadcast_f(y, lambda g: - g * x / y**2))\n",
      "C:\\Users\\Suvi\\Anaconda3\\lib\\site-packages\\autograd\\core.py:205: RuntimeWarning: invalid value encountered in double_scalars\n",
      "  def _mut_add(self, x, y):    x += y; return x\n"
     ]
    },
    {
     "name": "stdout",
     "output_type": "stream",
     "text": [
      "All in all accepted:  200.0 , proportion:  1.0\n",
      "Accepted:  99.0\n",
      "Acceptance rate:  0.99\n",
      "All in all accepted:  183.0 , proportion:  0.915\n",
      "Accepted:  99.0\n",
      "Acceptance rate:  0.99\n",
      "All in all accepted:  195.0 , proportion:  0.975\n",
      "Accepted:  99.0\n",
      "Acceptance rate:  0.99\n"
     ]
    }
   ],
   "source": [
    "# Calculate 4 chains with dispersed starting points\n",
    "# Generate 25*1 vector as starting values for theta (=beta coefficients)\n",
    "thetaOriginal1=np.zeros(26)\n",
    "thetaOriginal2=npr.normal(-10.0, 5.0, 26)\n",
    "thetaOriginal3=npr.normal(10.0, 5.0, 26)\n",
    "thetaOriginal4=npr.normal(0.0, 5.0, 26)\n",
    "\n",
    "# Sample size*2 (only the latter half is returned)\n",
    "size=200\n",
    "hmcTheta0=np.empty([size//2, 26, 4])\n",
    "hmcTheta0[:,:,0], hmcR1 = HMC.basicHmc(thetaOriginal1, 0.01, 50, lBayesHLRX, size)\n",
    "hmcTheta0[:,:,1], hmcR2 = HMC.basicHmc(thetaOriginal2, 0.01, 50, lBayesHLRX, size)\n",
    "hmcTheta0[:,:,2], hmcR3 = HMC.basicHmc(thetaOriginal3, 0.01, 50, lBayesHLRX, size)\n",
    "hmcTheta0[:,:,3], hmcR4 = HMC.basicHmc(thetaOriginal4, 0.01, 50, lBayesHLRX, size)\n"
   ]
  },
  {
   "cell_type": "code",
   "execution_count": 28,
   "metadata": {},
   "outputs": [
    {
     "name": "stdout",
     "output_type": "stream",
     "text": [
      "RHat statistics for the parameters are:  [nan nan nan nan nan nan nan nan nan nan nan nan nan nan nan nan nan nan\n",
      " nan nan nan nan nan nan nan nan]\n",
      "vt0 (50, 26, 8)\n",
      "tt (50,)\n",
      "Effective sample size:  [nan nan nan nan nan nan nan nan nan nan nan nan nan nan nan nan nan nan\n",
      " nan nan nan nan nan nan nan nan]\n"
     ]
    },
    {
     "data": {
      "image/png": "[encoded data removed]",
      "text/plain": [
       "<Figure size 432x288 with 1 Axes>"
      ]
     },
     "metadata": {},
     "output_type": "display_data"
    },
    {
     "data": {
      "image/png": "[encoded data removed]",
      "text/plain": [
       "<Figure size 432x288 with 1 Axes>"
      ]
     },
     "metadata": {},
     "output_type": "display_data"
    }
   ],
   "source": [
    "ConvergenceTests.ConvergenceTest(hmcTheta0)"
   ]
  },
  {
   "cell_type": "markdown",
   "metadata": {},
   "source": [
    "### NUTS"
   ]
  },
  {
   "cell_type": "code",
   "execution_count": 30,
   "metadata": {},
   "outputs": [
    {
     "name": "stderr",
     "output_type": "stream",
     "text": [
      "C:\\Users\\Suvi\\Anaconda3\\lib\\site-packages\\autograd\\tracer.py:48: RuntimeWarning: overflow encountered in exp\n",
      "  return f_raw(*args, **kwargs)\n"
     ]
    },
    {
     "ename": "OverflowError",
     "evalue": "Range exceeds valid bounds",
     "output_type": "error",
     "traceback": [
      "\u001b[1;31m---------------------------------------------------------------------------\u001b[0m",
      "\u001b[1;31mOverflowError\u001b[0m                             Traceback (most recent call last)",
      "\u001b[1;32m<ipython-input-30-a91311faa338>\u001b[0m in \u001b[0;36m<module>\u001b[1;34m()\u001b[0m\n\u001b[0;32m      2\u001b[0m \u001b[0msize\u001b[0m\u001b[1;33m=\u001b[0m\u001b[1;36m200\u001b[0m\u001b[1;33m\u001b[0m\u001b[0m\n\u001b[0;32m      3\u001b[0m \u001b[0mhmcTheta0\u001b[0m\u001b[1;33m=\u001b[0m\u001b[0mnp\u001b[0m\u001b[1;33m.\u001b[0m\u001b[0mempty\u001b[0m\u001b[1;33m(\u001b[0m\u001b[1;33m[\u001b[0m\u001b[0msize\u001b[0m\u001b[1;33m//\u001b[0m\u001b[1;36m2\u001b[0m\u001b[1;33m,\u001b[0m \u001b[1;36m26\u001b[0m\u001b[1;33m,\u001b[0m \u001b[1;36m4\u001b[0m\u001b[1;33m]\u001b[0m\u001b[1;33m)\u001b[0m\u001b[1;33m\u001b[0m\u001b[0m\n\u001b[1;32m----> 4\u001b[1;33m \u001b[0mnutsTheta0\u001b[0m\u001b[1;33m[\u001b[0m\u001b[1;33m:\u001b[0m\u001b[1;33m,\u001b[0m\u001b[1;33m:\u001b[0m\u001b[1;33m,\u001b[0m\u001b[1;36m0\u001b[0m\u001b[1;33m]\u001b[0m\u001b[1;33m,\u001b[0m \u001b[0mnutsEpsilon1\u001b[0m \u001b[1;33m=\u001b[0m \u001b[0mnoUturnSampler\u001b[0m\u001b[1;33m.\u001b[0m\u001b[0mNoUTurn\u001b[0m\u001b[1;33m(\u001b[0m\u001b[0mthetaOriginal1\u001b[0m\u001b[1;33m,\u001b[0m \u001b[1;36m0.6\u001b[0m\u001b[1;33m,\u001b[0m \u001b[0mlBayesHLRX\u001b[0m\u001b[1;33m,\u001b[0m \u001b[0msize\u001b[0m\u001b[1;33m,\u001b[0m\u001b[0msize\u001b[0m\u001b[1;33m//\u001b[0m\u001b[1;36m2\u001b[0m\u001b[1;33m,\u001b[0m \u001b[0mtestRun\u001b[0m\u001b[1;33m=\u001b[0m\u001b[1;32mFalse\u001b[0m\u001b[1;33m)\u001b[0m\u001b[1;33m\u001b[0m\u001b[0m\n\u001b[0m\u001b[0;32m      5\u001b[0m \u001b[0mnutsTheta0\u001b[0m\u001b[1;33m[\u001b[0m\u001b[1;33m:\u001b[0m\u001b[1;33m,\u001b[0m\u001b[1;33m:\u001b[0m\u001b[1;33m,\u001b[0m\u001b[1;36m1\u001b[0m\u001b[1;33m]\u001b[0m\u001b[1;33m,\u001b[0m \u001b[0mnutsEpsilon2\u001b[0m \u001b[1;33m=\u001b[0m \u001b[0mnoUturnSampler\u001b[0m\u001b[1;33m.\u001b[0m\u001b[0mNoUTurn\u001b[0m\u001b[1;33m(\u001b[0m\u001b[0mthetaOriginal2\u001b[0m\u001b[1;33m,\u001b[0m \u001b[1;36m0.6\u001b[0m\u001b[1;33m,\u001b[0m \u001b[0mlBayesHLRX\u001b[0m\u001b[1;33m,\u001b[0m \u001b[0msize\u001b[0m\u001b[1;33m,\u001b[0m\u001b[0msize\u001b[0m\u001b[1;33m//\u001b[0m\u001b[1;36m2\u001b[0m\u001b[1;33m,\u001b[0m \u001b[0mtestRun\u001b[0m\u001b[1;33m=\u001b[0m\u001b[1;32mFalse\u001b[0m\u001b[1;33m)\u001b[0m\u001b[1;33m\u001b[0m\u001b[0m\n\u001b[0;32m      6\u001b[0m \u001b[0mnutsTheta0\u001b[0m\u001b[1;33m[\u001b[0m\u001b[1;33m:\u001b[0m\u001b[1;33m,\u001b[0m\u001b[1;33m:\u001b[0m\u001b[1;33m,\u001b[0m\u001b[1;36m2\u001b[0m\u001b[1;33m]\u001b[0m\u001b[1;33m,\u001b[0m \u001b[0mnutsEpsilon3\u001b[0m \u001b[1;33m=\u001b[0m \u001b[0mnoUturnSampler\u001b[0m\u001b[1;33m.\u001b[0m\u001b[0mNoUTurn\u001b[0m\u001b[1;33m(\u001b[0m\u001b[0mthetaOriginal3\u001b[0m\u001b[1;33m,\u001b[0m \u001b[1;36m0.6\u001b[0m\u001b[1;33m,\u001b[0m \u001b[0mlBayesHLRX\u001b[0m\u001b[1;33m,\u001b[0m \u001b[0msize\u001b[0m\u001b[1;33m,\u001b[0m\u001b[0msize\u001b[0m\u001b[1;33m//\u001b[0m\u001b[1;36m2\u001b[0m\u001b[1;33m,\u001b[0m \u001b[0mtestRun\u001b[0m\u001b[1;33m=\u001b[0m\u001b[1;32mFalse\u001b[0m\u001b[1;33m)\u001b[0m\u001b[1;33m\u001b[0m\u001b[0m\n",
      "\u001b[1;32m~\\Dropbox\\Tilastotieteen opinnot\\Computational statistics II\\cs2\\noUturnSampler.py\u001b[0m in \u001b[0;36mNoUTurn\u001b[1;34m(theta0, delta, Likelihood, nSamples, nSamplesAdapt, testRun)\u001b[0m\n\u001b[0;32m     57\u001b[0m                         \u001b[0mprint\u001b[0m\u001b[1;33m(\u001b[0m\u001b[1;34m'high bound: '\u001b[0m\u001b[1;33m,\u001b[0m \u001b[0mhighBound\u001b[0m\u001b[1;33m)\u001b[0m\u001b[1;33m\u001b[0m\u001b[0m\n\u001b[0;32m     58\u001b[0m                         \u001b[0mprint\u001b[0m\u001b[1;33m(\u001b[0m\u001b[1;34m'Likelihood: '\u001b[0m\u001b[1;33m,\u001b[0m \u001b[0mLikelihood\u001b[0m\u001b[1;33m(\u001b[0m\u001b[0mthetaHist\u001b[0m\u001b[1;33m[\u001b[0m\u001b[0mi\u001b[0m\u001b[1;33m-\u001b[0m\u001b[1;36m1\u001b[0m\u001b[1;33m]\u001b[0m\u001b[1;33m)\u001b[0m\u001b[1;33m,\u001b[0m \u001b[1;34m' , 1/2*r0@r0: '\u001b[0m\u001b[1;33m,\u001b[0m \u001b[1;36m1\u001b[0m\u001b[1;33m/\u001b[0m\u001b[1;36m2\u001b[0m\u001b[1;33m*\u001b[0m\u001b[0mr0\u001b[0m\u001b[1;33m@\u001b[0m\u001b[0mr0\u001b[0m\u001b[1;33m)\u001b[0m\u001b[1;33m\u001b[0m\u001b[0m\n\u001b[1;32m---> 59\u001b[1;33m                 \u001b[0mu\u001b[0m\u001b[1;33m=\u001b[0m\u001b[0mnpr\u001b[0m\u001b[1;33m.\u001b[0m\u001b[0muniform\u001b[0m\u001b[1;33m(\u001b[0m\u001b[0mlow\u001b[0m\u001b[1;33m=\u001b[0m\u001b[1;36m0\u001b[0m\u001b[1;33m,\u001b[0m \u001b[0mhigh\u001b[0m\u001b[1;33m=\u001b[0m\u001b[0mhighBound\u001b[0m\u001b[1;33m)\u001b[0m\u001b[1;33m\u001b[0m\u001b[0m\n\u001b[0m\u001b[0;32m     60\u001b[0m                 \u001b[1;31m# initialize values; in the beginning left (minus) and right (plus) sides are the same.\u001b[0m\u001b[1;33m\u001b[0m\u001b[1;33m\u001b[0m\u001b[0m\n\u001b[0;32m     61\u001b[0m                 \u001b[0mthetaMinus\u001b[0m\u001b[1;33m=\u001b[0m\u001b[0mthetaHist\u001b[0m\u001b[1;33m[\u001b[0m\u001b[0mi\u001b[0m\u001b[1;33m-\u001b[0m\u001b[1;36m1\u001b[0m\u001b[1;33m]\u001b[0m\u001b[1;33m\u001b[0m\u001b[0m\n",
      "\u001b[1;32m~\\Anaconda3\\lib\\site-packages\\autograd\\tracer.py\u001b[0m in \u001b[0;36mf_wrapped\u001b[1;34m(*args, **kwargs)\u001b[0m\n\u001b[0;32m     46\u001b[0m             \u001b[1;32mreturn\u001b[0m \u001b[0mnew_box\u001b[0m\u001b[1;33m(\u001b[0m\u001b[0mans\u001b[0m\u001b[1;33m,\u001b[0m \u001b[0mtrace\u001b[0m\u001b[1;33m,\u001b[0m \u001b[0mnode\u001b[0m\u001b[1;33m)\u001b[0m\u001b[1;33m\u001b[0m\u001b[0m\n\u001b[0;32m     47\u001b[0m         \u001b[1;32melse\u001b[0m\u001b[1;33m:\u001b[0m\u001b[1;33m\u001b[0m\u001b[0m\n\u001b[1;32m---> 48\u001b[1;33m             \u001b[1;32mreturn\u001b[0m \u001b[0mf_raw\u001b[0m\u001b[1;33m(\u001b[0m\u001b[1;33m*\u001b[0m\u001b[0margs\u001b[0m\u001b[1;33m,\u001b[0m \u001b[1;33m**\u001b[0m\u001b[0mkwargs\u001b[0m\u001b[1;33m)\u001b[0m\u001b[1;33m\u001b[0m\u001b[0m\n\u001b[0m\u001b[0;32m     49\u001b[0m     \u001b[0mf_wrapped\u001b[0m\u001b[1;33m.\u001b[0m\u001b[0mfun\u001b[0m \u001b[1;33m=\u001b[0m \u001b[0mf_raw\u001b[0m\u001b[1;33m\u001b[0m\u001b[0m\n\u001b[0;32m     50\u001b[0m     \u001b[0mf_wrapped\u001b[0m\u001b[1;33m.\u001b[0m\u001b[0m_is_autograd_primitive\u001b[0m \u001b[1;33m=\u001b[0m \u001b[1;32mTrue\u001b[0m\u001b[1;33m\u001b[0m\u001b[0m\n",
      "\u001b[1;32mmtrand.pyx\u001b[0m in \u001b[0;36mmtrand.RandomState.uniform\u001b[1;34m()\u001b[0m\n",
      "\u001b[1;31mOverflowError\u001b[0m: Range exceeds valid bounds"
     ]
    }
   ],
   "source": [
    "# Sample size*2 (only the latter half is returned)\n",
    "size=200\n",
    "hmcTheta0=np.empty([size//2, 26, 4])\n",
    "nutsTheta0[:,:,0], nutsEpsilon1 = noUturnSampler.NoUTurn(thetaOriginal1, 0.6, lBayesHLRX, size,size//2, testRun=False)\n",
    "nutsTheta0[:,:,1], nutsEpsilon2 = noUturnSampler.NoUTurn(thetaOriginal2, 0.6, lBayesHLRX, size,size//2, testRun=False)\n",
    "nutsTheta0[:,:,2], nutsEpsilon3 = noUturnSampler.NoUTurn(thetaOriginal3, 0.6, lBayesHLRX, size,size//2, testRun=False)\n",
    "nutsTheta0[:,:,3], nutsEpsilon4 = noUturnSampler.NoUTurn(thetaOriginal4, 0.6, lBayesHLRX, size,size//2, testRun=False)"
   ]
  },
  {
   "cell_type": "markdown",
   "metadata": {},
   "source": [
    "# Test case 4: compare your results with the same models run in Stan using the provided NUTS sampler\n",
    "Pystan downloaded from :mc-stan.org/users/interfaces/pystan.html"
   ]
  },
  {
   "cell_type": "markdown",
   "metadata": {},
   "source": [
    "## Test case 1: 250 dimensional multivariate normal"
   ]
  },
  {
   "cell_type": "code",
   "execution_count": 27,
   "metadata": {},
   "outputs": [],
   "source": [
    "def fLNormal250(parTheta, matrixA):\n",
    "    return -1/2*parTheta.T @ matrixA @ parTheta\n",
    "\n",
    "# Generate 250*250 matrix for multivariate normal-distribution\n",
    "from scipy.stats import wishart\n",
    "precisionMatrixA=wishart.rvs(df=2, scale=1, size=[2, 2], random_state=None)\n",
    "normal250likelihood=lambda x: fLNormal250(x, matrixA=precisionMatrixA)\n",
    "\n",
    "# Generate 250*1 vector as starting values for theta\n",
    "thetaOriginal=npr.normal(3.0, 3.0, size=2)\n"
   ]
  },
  {
   "cell_type": "markdown",
   "metadata": {},
   "source": [
    "### HMC"
   ]
  },
  {
   "cell_type": "code",
   "execution_count": 13,
   "metadata": {},
   "outputs": [
    {
     "name": "stdout",
     "output_type": "stream",
     "text": [
      "All in all accepted:  0.0 , proportion:  0.0\n",
      "Accepted:  0.0\n",
      "Acceptance rate:  0.0\n"
     ]
    }
   ],
   "source": [
    "import importlib\n",
    "import HMC\n",
    "importlib.reload(HMC)\n",
    "thetaSample, rSample = HMC.basicHmc(thetaOriginal, 0.01, 100, normal250likelihood, 2000)"
   ]
  },
  {
   "cell_type": "code",
   "execution_count": 36,
   "metadata": {},
   "outputs": [
    {
     "name": "stdout",
     "output_type": "stream",
     "text": [
      "[[ 2.65564517 -5.39012071  7.46617946 ... -0.58202115  3.41668296\n",
      "   0.82154097]\n",
      " [ 2.65564517 -5.39012071  7.46617946 ... -0.58202115  3.41668296\n",
      "   0.82154097]\n",
      " [ 2.65564517 -5.39012071  7.46617946 ... -0.58202115  3.41668296\n",
      "   0.82154097]\n",
      " ...\n",
      " [ 4.37834002 -8.7020084  12.86806496 ...  0.55830722  4.79958405\n",
      "  -0.95769674]\n",
      " [ 4.39589425 -8.74859041 12.92832518 ...  0.57004154  4.81361664\n",
      "  -0.97790908]\n",
      " [ 4.41621365 -8.7830764  12.98497566 ...  0.58387645  4.82169907\n",
      "  -1.00058265]]\n"
     ]
    }
   ],
   "source": [
    "print(thetaSample)"
   ]
  },
  {
   "cell_type": "markdown",
   "metadata": {},
   "source": [
    "### No-U-Turn sampler"
   ]
  },
  {
   "cell_type": "code",
   "execution_count": 40,
   "metadata": {},
   "outputs": [
    {
     "name": "stdout",
     "output_type": "stream",
     "text": [
      "First epsilon:  0.05\n",
      "High bound Likelihood:  -128.01788087995303  , 1/2*r0@r0:  0.13292098339001115\n",
      "***Starting iteration, round:  1\n",
      "Going to direction:  1\n",
      "BuildTree: j==0, Likelihood(thetaCur) -127.61444453914325\n",
      "compared to Likelihood(theta0):  -128.01788087995303\n",
      "Accepted new theta value, round, theta:  1 [7.72982777 5.2826722 ]\n",
      "Accepted likelihood:  -127.61444453914325\n",
      "High bound Likelihood:  -127.61444453914325  , 1/2*r0@r0:  0.5495025917901689\n",
      "***Starting iteration, round:  2\n",
      "Going to direction:  -1\n",
      "BuildTree: j==0, Likelihood(thetaCur) -64.65504521034924\n",
      "compared to Likelihood(theta0):  -127.61444453914325\n",
      "Accepted new theta value, round, theta:  2 [-6.5174443  -1.20169193]\n",
      "Accepted likelihood:  -64.65504521034924\n",
      "Going to direction:  1\n",
      "j-value is:  1.0\n",
      "Accepted thetaCur2, Likelihood:  -8.653779005917047\n",
      "BuildTree: j!=1, Likelihood(thetaCur) -8.653779005917047\n",
      "High bound Likelihood:  -64.65504521034924  , 1/2*r0@r0:  0.21583008068611892\n",
      "***Starting iteration, round:  3\n",
      "Going to direction:  1\n",
      "BuildTree: j==0, Likelihood(thetaCur) -15207.747967662592\n",
      "compared to Likelihood(theta0):  -64.65504521034924\n",
      "High bound Likelihood:  -64.65504521034924  , 1/2*r0@r0:  1.6457543972306883\n",
      "***Starting iteration, round:  4\n",
      "Going to direction:  -1\n",
      "BuildTree: j==0, Likelihood(thetaCur) -7.822726236714837\n",
      "compared to Likelihood(theta0):  -64.65504521034924\n",
      "Accepted new theta value, round, theta:  4 [1.65333887 1.98591819]\n",
      "Accepted likelihood:  -7.822726236714837\n",
      "Going to direction:  -1\n",
      "j-value is:  1.0\n",
      "Accepted thetaCur2, Likelihood:  -19.884290483745218\n",
      "BuildTree: j!=1, Likelihood(thetaCur) -19.884290483745218\n",
      "Accepted new theta value, round, theta:  4 [-3.86195115 -0.05857352]\n",
      "Accepted likelihood:  -19.884290483745218\n",
      "High bound Likelihood:  -19.884290483745218  , 1/2*r0@r0:  1.0172337262734545\n",
      "***Starting iteration, round:  5\n",
      "Going to direction:  -1\n",
      "BuildTree: j==0, Likelihood(thetaCur) -2487.437367638127\n",
      "compared to Likelihood(theta0):  -19.884290483745218\n",
      "High bound Likelihood:  -19.884290483745218  , 1/2*r0@r0:  0.7329676081281278\n",
      "***Starting iteration, round:  6\n",
      "Going to direction:  1\n",
      "BuildTree: j==0, Likelihood(thetaCur) -10.969051355580165\n",
      "compared to Likelihood(theta0):  -19.884290483745218\n",
      "Accepted new theta value, round, theta:  6 [-3.15821983  0.65436177]\n",
      "Accepted likelihood:  -10.969051355580165\n",
      "High bound Likelihood:  -10.969051355580165  , 1/2*r0@r0:  0.6289734495359287\n",
      "***Starting iteration, round:  7\n",
      "Going to direction:  1\n",
      "BuildTree: j==0, Likelihood(thetaCur) -120.63269144325858\n",
      "compared to Likelihood(theta0):  -10.969051355580165\n",
      "High bound Likelihood:  -10.969051355580165  , 1/2*r0@r0:  0.55946729215419\n",
      "***Starting iteration, round:  8\n",
      "Going to direction:  1\n",
      "BuildTree: j==0, Likelihood(thetaCur) -9.504006268353928\n",
      "compared to Likelihood(theta0):  -10.969051355580165\n",
      "Accepted new theta value, round, theta:  8 [-2.88799837  0.48564836]\n",
      "Accepted likelihood:  -9.504006268353928\n",
      "Going to direction:  1\n",
      "j-value is:  1.0\n",
      "Accepted thetaCur2, Likelihood:  -0.566042161143511\n",
      "BuildTree: j!=1, Likelihood(thetaCur) -0.566042161143511\n",
      "Accepted new theta value, round, theta:  8 [-0.97002058  0.72593128]\n",
      "Accepted likelihood:  -0.566042161143511\n",
      "High bound Likelihood:  -0.566042161143511  , 1/2*r0@r0:  0.9014162633381714\n",
      "***Starting iteration, round:  9\n",
      "Going to direction:  1\n",
      "BuildTree: j==0, Likelihood(thetaCur) -1.0263456671359885\n",
      "compared to Likelihood(theta0):  -0.566042161143511\n",
      "Going to direction:  1\n",
      "j-value is:  1.0\n",
      "Accepted thetaCur2, Likelihood:  0.5645670611145563\n",
      "BuildTree: j!=1, Likelihood(thetaCur) 0.5645670611145563\n",
      "Accepted new theta value, round, theta:  9 [-1.28798005  3.28037167]\n",
      "Accepted likelihood:  0.5645670611145563\n",
      "Going to direction:  -1\n",
      "j-value is:  2.0\n"
     ]
    },
    {
     "ename": "FloatingPointError",
     "evalue": "invalid value encountered in double_scalars",
     "output_type": "error",
     "traceback": [
      "\u001b[1;31m---------------------------------------------------------------------------\u001b[0m",
      "\u001b[1;31mFloatingPointError\u001b[0m                        Traceback (most recent call last)",
      "\u001b[1;32m<ipython-input-40-84d7634efe9d>\u001b[0m in \u001b[0;36m<module>\u001b[1;34m()\u001b[0m\n\u001b[0;32m      2\u001b[0m \u001b[1;32mimport\u001b[0m \u001b[0mimportlib\u001b[0m\u001b[1;33m\u001b[0m\u001b[0m\n\u001b[0;32m      3\u001b[0m \u001b[0mimportlib\u001b[0m\u001b[1;33m.\u001b[0m\u001b[0mreload\u001b[0m\u001b[1;33m(\u001b[0m\u001b[0mnoUturnSampler\u001b[0m\u001b[1;33m)\u001b[0m\u001b[1;33m\u001b[0m\u001b[0m\n\u001b[1;32m----> 4\u001b[1;33m \u001b[0msample1UTurn\u001b[0m\u001b[1;33m,\u001b[0m \u001b[0mepsilon1sample\u001b[0m\u001b[1;33m=\u001b[0m\u001b[0mnoUturnSampler\u001b[0m\u001b[1;33m.\u001b[0m\u001b[0mNoUTurn\u001b[0m\u001b[1;33m(\u001b[0m\u001b[0mthetaOriginal\u001b[0m\u001b[1;33m,\u001b[0m \u001b[1;36m0.60\u001b[0m\u001b[1;33m,\u001b[0m \u001b[0mnormal250likelihood\u001b[0m\u001b[1;33m,\u001b[0m \u001b[1;36m1000\u001b[0m\u001b[1;33m,\u001b[0m\u001b[1;36m500\u001b[0m\u001b[1;33m,\u001b[0m \u001b[0mtestRun\u001b[0m\u001b[1;33m=\u001b[0m\u001b[1;32mTrue\u001b[0m\u001b[1;33m)\u001b[0m\u001b[1;33m\u001b[0m\u001b[0m\n\u001b[0m\u001b[0;32m      5\u001b[0m \u001b[1;33m\u001b[0m\u001b[0m\n\u001b[0;32m      6\u001b[0m \u001b[1;31m#fig3, (plot1,plot2) = plt.subplots(nrows=1, ncols=2)\u001b[0m\u001b[1;33m\u001b[0m\u001b[1;33m\u001b[0m\u001b[0m\n",
      "\u001b[1;32m~\\Dropbox\\Tilastotieteen opinnot\\Computational statistics II\\cs2\\noUturnSampler.py\u001b[0m in \u001b[0;36mNoUTurn\u001b[1;34m(theta0, delta, Likelihood, nSamples, nSamplesAdapt, testRun)\u001b[0m\n\u001b[0;32m     75\u001b[0m             \u001b[1;32mif\u001b[0m \u001b[0mtestRun\u001b[0m\u001b[1;33m:\u001b[0m \u001b[0mprint\u001b[0m\u001b[1;33m(\u001b[0m\u001b[1;34m'Going to direction: '\u001b[0m\u001b[1;33m,\u001b[0m \u001b[0mvj\u001b[0m\u001b[1;33m)\u001b[0m\u001b[1;33m\u001b[0m\u001b[0m\n\u001b[0;32m     76\u001b[0m             \u001b[1;32mif\u001b[0m \u001b[0mvj\u001b[0m \u001b[1;33m==\u001b[0m \u001b[1;33m-\u001b[0m\u001b[1;36m1\u001b[0m\u001b[1;33m:\u001b[0m\u001b[1;33m\u001b[0m\u001b[0m\n\u001b[1;32m---> 77\u001b[1;33m                 \u001b[0mthetaMinus\u001b[0m\u001b[1;33m,\u001b[0m\u001b[0mrMinus\u001b[0m\u001b[1;33m,\u001b[0m\u001b[0m_\u001b[0m\u001b[1;33m,\u001b[0m\u001b[0m_\u001b[0m\u001b[1;33m,\u001b[0m\u001b[0mthetaCur\u001b[0m\u001b[1;33m,\u001b[0m\u001b[0mnCur\u001b[0m\u001b[1;33m,\u001b[0m\u001b[0msCur\u001b[0m\u001b[1;33m,\u001b[0m\u001b[0malpha\u001b[0m\u001b[1;33m,\u001b[0m\u001b[0mnAlpha\u001b[0m\u001b[1;33m=\u001b[0m\u001b[0mBuildTree\u001b[0m\u001b[1;33m(\u001b[0m\u001b[0mthetaMinus\u001b[0m\u001b[1;33m,\u001b[0m\u001b[0mrMinus\u001b[0m\u001b[1;33m,\u001b[0m\u001b[0mu\u001b[0m\u001b[1;33m,\u001b[0m\u001b[0mvj\u001b[0m\u001b[1;33m,\u001b[0m\u001b[0mj\u001b[0m\u001b[1;33m,\u001b[0m\u001b[0mepsilonHist\u001b[0m\u001b[1;33m[\u001b[0m\u001b[0mi\u001b[0m\u001b[1;33m-\u001b[0m\u001b[1;36m1\u001b[0m\u001b[1;33m]\u001b[0m\u001b[1;33m,\u001b[0m\u001b[0mthetaHist\u001b[0m\u001b[1;33m[\u001b[0m\u001b[0mi\u001b[0m\u001b[1;33m-\u001b[0m\u001b[1;36m1\u001b[0m\u001b[1;33m]\u001b[0m\u001b[1;33m,\u001b[0m\u001b[0mr0\u001b[0m\u001b[1;33m,\u001b[0m\u001b[0mLikelihood\u001b[0m\u001b[1;33m,\u001b[0m\u001b[0mtestRun\u001b[0m\u001b[1;33m)\u001b[0m\u001b[1;33m\u001b[0m\u001b[0m\n\u001b[0m\u001b[0;32m     78\u001b[0m             \u001b[1;32melif\u001b[0m \u001b[0mvj\u001b[0m\u001b[1;33m==\u001b[0m\u001b[1;36m1\u001b[0m\u001b[1;33m:\u001b[0m\u001b[1;33m\u001b[0m\u001b[0m\n\u001b[0;32m     79\u001b[0m                 \u001b[0m_\u001b[0m\u001b[1;33m,\u001b[0m\u001b[0m_\u001b[0m\u001b[1;33m,\u001b[0m\u001b[0mthetaPlus\u001b[0m\u001b[1;33m,\u001b[0m\u001b[0mrPlus\u001b[0m\u001b[1;33m,\u001b[0m\u001b[0mthetaCur\u001b[0m\u001b[1;33m,\u001b[0m\u001b[0mnCur\u001b[0m\u001b[1;33m,\u001b[0m\u001b[0msCur\u001b[0m\u001b[1;33m,\u001b[0m\u001b[0malpha\u001b[0m\u001b[1;33m,\u001b[0m\u001b[0mnAlpha\u001b[0m\u001b[1;33m=\u001b[0m\u001b[0mBuildTree\u001b[0m\u001b[1;33m(\u001b[0m\u001b[0mthetaPlus\u001b[0m\u001b[1;33m,\u001b[0m\u001b[0mrPlus\u001b[0m\u001b[1;33m,\u001b[0m\u001b[0mu\u001b[0m\u001b[1;33m,\u001b[0m\u001b[0mvj\u001b[0m\u001b[1;33m,\u001b[0m\u001b[0mj\u001b[0m\u001b[1;33m,\u001b[0m\u001b[0mepsilonHist\u001b[0m\u001b[1;33m[\u001b[0m\u001b[0mi\u001b[0m\u001b[1;33m-\u001b[0m\u001b[1;36m1\u001b[0m\u001b[1;33m]\u001b[0m\u001b[1;33m,\u001b[0m\u001b[0mthetaHist\u001b[0m\u001b[1;33m[\u001b[0m\u001b[0mi\u001b[0m\u001b[1;33m-\u001b[0m\u001b[1;36m1\u001b[0m\u001b[1;33m]\u001b[0m\u001b[1;33m,\u001b[0m\u001b[0mr0\u001b[0m\u001b[1;33m,\u001b[0m\u001b[0mLikelihood\u001b[0m\u001b[1;33m,\u001b[0m \u001b[0mtestRun\u001b[0m\u001b[1;33m)\u001b[0m\u001b[1;33m\u001b[0m\u001b[0m\n",
      "\u001b[1;32m~\\Dropbox\\Tilastotieteen opinnot\\Computational statistics II\\cs2\\noUturnSampler.py\u001b[0m in \u001b[0;36mBuildTree\u001b[1;34m(theta, r, u, v, j, epsilon, theta0, r0, Likelihood, testRun, deltaMax)\u001b[0m\n\u001b[0;32m    137\u001b[0m         \u001b[1;32mif\u001b[0m \u001b[0msCur\u001b[0m\u001b[1;33m==\u001b[0m\u001b[1;36m1\u001b[0m\u001b[1;33m:\u001b[0m\u001b[1;33m\u001b[0m\u001b[0m\n\u001b[0;32m    138\u001b[0m             \u001b[1;32mif\u001b[0m \u001b[0mv\u001b[0m\u001b[1;33m==\u001b[0m\u001b[1;33m-\u001b[0m\u001b[1;36m1\u001b[0m\u001b[1;33m:\u001b[0m\u001b[1;33m\u001b[0m\u001b[0m\n\u001b[1;32m--> 139\u001b[1;33m                 \u001b[0mthetaMinus\u001b[0m\u001b[1;33m,\u001b[0m\u001b[0mrMinus\u001b[0m\u001b[1;33m,\u001b[0m\u001b[0m_\u001b[0m\u001b[1;33m,\u001b[0m\u001b[0m_\u001b[0m\u001b[1;33m,\u001b[0m\u001b[0mthetaCur2\u001b[0m\u001b[1;33m,\u001b[0m\u001b[0mnCur2\u001b[0m\u001b[1;33m,\u001b[0m\u001b[0msCur2\u001b[0m\u001b[1;33m,\u001b[0m\u001b[0malphaCur2\u001b[0m\u001b[1;33m,\u001b[0m\u001b[0mnAlphaCur2\u001b[0m\u001b[1;33m=\u001b[0m\u001b[0mBuildTree\u001b[0m\u001b[1;33m(\u001b[0m\u001b[0mthetaMinus\u001b[0m\u001b[1;33m,\u001b[0m\u001b[0mrMinus\u001b[0m\u001b[1;33m,\u001b[0m\u001b[0mu\u001b[0m\u001b[1;33m,\u001b[0m\u001b[0mv\u001b[0m\u001b[1;33m,\u001b[0m\u001b[0mj\u001b[0m\u001b[1;33m-\u001b[0m\u001b[1;36m1\u001b[0m\u001b[1;33m,\u001b[0m\u001b[0mepsilon\u001b[0m\u001b[1;33m,\u001b[0m\u001b[0mtheta0\u001b[0m\u001b[1;33m,\u001b[0m\u001b[0mr0\u001b[0m\u001b[1;33m,\u001b[0m\u001b[0mLikelihood\u001b[0m\u001b[1;33m)\u001b[0m\u001b[1;33m\u001b[0m\u001b[0m\n\u001b[0m\u001b[0;32m    140\u001b[0m             \u001b[1;32melse\u001b[0m\u001b[1;33m:\u001b[0m\u001b[1;33m\u001b[0m\u001b[0m\n\u001b[0;32m    141\u001b[0m                 \u001b[0m_\u001b[0m\u001b[1;33m,\u001b[0m\u001b[0m_\u001b[0m\u001b[1;33m,\u001b[0m\u001b[0mthetaPlus\u001b[0m\u001b[1;33m,\u001b[0m\u001b[0mrPlus\u001b[0m\u001b[1;33m,\u001b[0m\u001b[0mthetaCur2\u001b[0m\u001b[1;33m,\u001b[0m\u001b[0mnCur2\u001b[0m\u001b[1;33m,\u001b[0m\u001b[0msCur2\u001b[0m\u001b[1;33m,\u001b[0m\u001b[0malphaCur2\u001b[0m\u001b[1;33m,\u001b[0m\u001b[0mnAlphaCur2\u001b[0m\u001b[1;33m=\u001b[0m\u001b[0mBuildTree\u001b[0m\u001b[1;33m(\u001b[0m\u001b[0mthetaPlus\u001b[0m\u001b[1;33m,\u001b[0m\u001b[0mrPlus\u001b[0m\u001b[1;33m,\u001b[0m\u001b[0mu\u001b[0m\u001b[1;33m,\u001b[0m\u001b[0mv\u001b[0m\u001b[1;33m,\u001b[0m\u001b[0mj\u001b[0m\u001b[1;33m-\u001b[0m\u001b[1;36m1\u001b[0m\u001b[1;33m,\u001b[0m\u001b[0mepsilon\u001b[0m\u001b[1;33m,\u001b[0m\u001b[0mtheta0\u001b[0m\u001b[1;33m,\u001b[0m\u001b[0mr0\u001b[0m\u001b[1;33m,\u001b[0m\u001b[0mLikelihood\u001b[0m\u001b[1;33m)\u001b[0m\u001b[1;33m\u001b[0m\u001b[0m\n",
      "\u001b[1;32m~\\Dropbox\\Tilastotieteen opinnot\\Computational statistics II\\cs2\\noUturnSampler.py\u001b[0m in \u001b[0;36mBuildTree\u001b[1;34m(theta, r, u, v, j, epsilon, theta0, r0, Likelihood, testRun, deltaMax)\u001b[0m\n\u001b[0;32m    140\u001b[0m             \u001b[1;32melse\u001b[0m\u001b[1;33m:\u001b[0m\u001b[1;33m\u001b[0m\u001b[0m\n\u001b[0;32m    141\u001b[0m                 \u001b[0m_\u001b[0m\u001b[1;33m,\u001b[0m\u001b[0m_\u001b[0m\u001b[1;33m,\u001b[0m\u001b[0mthetaPlus\u001b[0m\u001b[1;33m,\u001b[0m\u001b[0mrPlus\u001b[0m\u001b[1;33m,\u001b[0m\u001b[0mthetaCur2\u001b[0m\u001b[1;33m,\u001b[0m\u001b[0mnCur2\u001b[0m\u001b[1;33m,\u001b[0m\u001b[0msCur2\u001b[0m\u001b[1;33m,\u001b[0m\u001b[0malphaCur2\u001b[0m\u001b[1;33m,\u001b[0m\u001b[0mnAlphaCur2\u001b[0m\u001b[1;33m=\u001b[0m\u001b[0mBuildTree\u001b[0m\u001b[1;33m(\u001b[0m\u001b[0mthetaPlus\u001b[0m\u001b[1;33m,\u001b[0m\u001b[0mrPlus\u001b[0m\u001b[1;33m,\u001b[0m\u001b[0mu\u001b[0m\u001b[1;33m,\u001b[0m\u001b[0mv\u001b[0m\u001b[1;33m,\u001b[0m\u001b[0mj\u001b[0m\u001b[1;33m-\u001b[0m\u001b[1;36m1\u001b[0m\u001b[1;33m,\u001b[0m\u001b[0mepsilon\u001b[0m\u001b[1;33m,\u001b[0m\u001b[0mtheta0\u001b[0m\u001b[1;33m,\u001b[0m\u001b[0mr0\u001b[0m\u001b[1;33m,\u001b[0m\u001b[0mLikelihood\u001b[0m\u001b[1;33m)\u001b[0m\u001b[1;33m\u001b[0m\u001b[0m\n\u001b[1;32m--> 142\u001b[1;33m             \u001b[1;32mif\u001b[0m \u001b[0mnpr\u001b[0m\u001b[1;33m.\u001b[0m\u001b[0muniform\u001b[0m\u001b[1;33m(\u001b[0m\u001b[1;33m)\u001b[0m\u001b[1;33m<\u001b[0m\u001b[0mnCur2\u001b[0m\u001b[1;33m/\u001b[0m\u001b[1;33m(\u001b[0m\u001b[0mnCur\u001b[0m\u001b[1;33m+\u001b[0m\u001b[0mnCur2\u001b[0m\u001b[1;33m)\u001b[0m\u001b[1;33m:\u001b[0m\u001b[1;33m\u001b[0m\u001b[0m\n\u001b[0m\u001b[0;32m    143\u001b[0m                 \u001b[1;32mif\u001b[0m \u001b[0mtestRun\u001b[0m\u001b[1;33m:\u001b[0m \u001b[0mprint\u001b[0m\u001b[1;33m(\u001b[0m\u001b[1;34m'Accepted thetaCur2, Likelihood: '\u001b[0m\u001b[1;33m,\u001b[0m \u001b[0mLikelihood\u001b[0m\u001b[1;33m(\u001b[0m\u001b[0mthetaCur2\u001b[0m\u001b[1;33m)\u001b[0m\u001b[1;33m)\u001b[0m\u001b[1;33m\u001b[0m\u001b[0m\n\u001b[0;32m    144\u001b[0m                 \u001b[0mthetaCur\u001b[0m\u001b[1;33m=\u001b[0m\u001b[0mthetaCur2\u001b[0m\u001b[1;33m\u001b[0m\u001b[0m\n",
      "\u001b[1;31mFloatingPointError\u001b[0m: invalid value encountered in double_scalars"
     ]
    }
   ],
   "source": [
    "import noUturnSampler\n",
    "import importlib\n",
    "importlib.reload(noUturnSampler)\n",
    "sample1UTurn, epsilon1sample=noUturnSampler.NoUTurn(thetaOriginal, 0.60, normal250likelihood, 1000,500, testRun=True)\n",
    "\n",
    "#fig3, (plot1,plot2) = plt.subplots(nrows=1, ncols=2)\n",
    "#plot1.hist(sample0UTurn[:,0])\n",
    "#plot2.hist(sample0UTurn[:,1])\n",
    "#print('Alpha value: ',np.mean(sample0UTurn[:,0]))\n",
    "#print('Beta value: ', np.mean(sample0UTurn[:,1]))"
   ]
  },
  {
   "cell_type": "code",
   "execution_count": 37,
   "metadata": {
    "scrolled": true
   },
   "outputs": [
    {
     "data": {
      "text/plain": [
       "9.85967654375977e-305"
      ]
     },
     "execution_count": 37,
     "metadata": {},
     "output_type": "execute_result"
    }
   ],
   "source": [
    "np.exp(-700.0)"
   ]
  }
 ],
 "metadata": {
  "kernelspec": {
   "display_name": "Python 3",
   "language": "python",
   "name": "python3"
  },
  "language_info": {
   "codemirror_mode": {
    "name": "ipython",
    "version": 3
   },
   "file_extension": ".py",
   "mimetype": "text/x-python",
   "name": "python",
   "nbconvert_exporter": "python",
   "pygments_lexer": "ipython3",
   "version": "3.6.5"
  }
 },
 "nbformat": 4,
 "nbformat_minor": 2
}
