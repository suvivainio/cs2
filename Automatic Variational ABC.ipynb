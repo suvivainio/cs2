{
 "cells": [
  {
   "cell_type": "markdown",
   "metadata": {},
   "source": [
    "# Automatic Variational ABC\n",
    "This file executes the algotrithm presented in the article: Moreno et. al. (2010) Automatic Variational ABC.\n",
    "\n",
    "Algorithm code is saved to file ABC.py, that should be in the same directory as this notebook. Cache is emptied in the beginning of the two problems, there's a prompt that must be answered to.\n",
    "\n",
    "Task is to:\n",
    "* implement algorithm 1\n",
    "* test your implementation by replicating the simulated tests (4.1-4.2)\n",
    "* compare your results to the results in the paper\n",
    "\n",
    "## Algorithm 1\n",
    "1. Specify simulation code for $f(\\theta, u)$ and simulator randomness $p(u)$\n",
    "2. Specify reparametrization $Q(\\theta, \\phi)$ in terms or parameterless $Q_0(\\nu)$\n",
    "3. $\\phi$ <-- initialize parameters\n",
    "4. repeat until convergence\n",
    "    * $\\nu$ <-- samples from $Q_0(\\nu)$\n",
    "    * $u$ <-- samples from $p(u)$\n",
    "    * $g$ <-- $\\nabla L_\\phi(\\phi, \\nu, u) $\n",
    "    * $\\phi$ <-- run one step of an adaptive gradient algorithm using $g$\n",
    "\n"
   ]
  },
  {
   "cell_type": "markdown",
   "metadata": {},
   "source": [
    "## Problem 1: Infer distribution for probability in Bernoulli distribution\n",
    "There are M Bernoulli samples, each with success probability $\\theta$. The task is to infer a distribution for $\\theta$. Observed data $y$ is a vector of zero's and one's, and $k$ is the number of successes. Number of trials is 100 and true value of k=70.\n",
    "\n",
    "With $beta(1,1)$ prior, the true posterior is $beta(k+1, M-k+1)$.\n",
    "\n",
    "Because the method is based on gradients the continuous normal approximation for binomial distribution is used instead of the discrete true distribution.\n",
    "\n",
    "$\\epsilon$ is set to $\\theta(1-\\theta)^(0.5)$\n",
    "\n",
    "Variational posterior is $Q_\\phi(\\theta)=Kumaraswamy(a,b)$, with initial values (1,1). Kumaraswamy distribution is similar to beta distribution, but has a closed for CDF. Closed form CDF is needed to generate samples given uniform distribution $Q_0(\\nu)=U(0,1)$.\n",
    "\n",
    "For Gaussian approximation $N(0,1)$ is used."
   ]
  },
  {
   "cell_type": "code",
   "execution_count": 29,
   "metadata": {
    "scrolled": true
   },
   "outputs": [
    {
     "name": "stdout",
     "output_type": "stream",
     "text": [
      "Once deleted, variables cannot be recovered. Proceed (y/[n])? y\n",
      "Returning values\n",
      "Returning values\n",
      "Last theta10:  0.6646270457159426\n",
      "Last theta1:  0.661308951096523\n"
     ]
    }
   ],
   "source": [
    "%reset\n",
    "\n",
    "import autograd.numpy as np\n",
    "import autograd.numpy.random as npr\n",
    "import autograd\n",
    "import matplotlib.pyplot as plt\n",
    "%matplotlib inline\n",
    "from scipy.special import binom\n",
    "from scipy.special import gamma\n",
    "from scipy.misc import derivative\n",
    "from scipy.stats import beta\n",
    "import pandas as pd\n",
    "\n",
    "npr.seed(42)\n",
    "\n",
    "# ABC.py must be in the same directory as this notebook\n",
    "import ABC\n",
    "import importlib\n",
    "importlib.reload(ABC)\n",
    "\n",
    "# 1 Bernoulli problem\n",
    "## Target functions\n",
    "def fTargetBernoulli(parPhi0, nu, u, binN=100, yy=70):\n",
    "    parPhi=np.exp(parPhi0)\n",
    "    # binN: number of bernoulli tries\n",
    "    # yy: number of successes in the simulation\n",
    "    # Express theta as a function of phi and nu\n",
    "    # * Use the inverse of function of Kumaraswamy CDF to transform Uniform distribution to Kumaraswamy\n",
    "    # * phi[0]: a-parameter of Kumaraswamy distribution\n",
    "    # * phi[1]: b-parameter of Kumaraswamy distribution\n",
    "    # * theta: vector[samplesize] of success probabilities\n",
    "    theta = (1-(1-nu)**(1/parPhi[1]))**(1/parPhi[0])\n",
    "    # Transform u~N(0,1) and theta to the normal approximation of binomial distribution \n",
    "    # to get xx: the approximate number of successes\n",
    "    prob0=0.0\n",
    "    for i in range(len(theta)):\n",
    "        # First mean is over the u-values\n",
    "        # Calculate the probability of achieving yy=70 successes with \n",
    "        # expected value=xx0 and variance=theta*(1-theta)\n",
    "        xx0=np.mean(binN*theta[i] + (binN*theta[i]*(1-theta[i])**2)*u)\n",
    "        prob0+=lNormal(yy, xx0, binN*theta[i]*(1-theta[i]))\n",
    "    # Second mean is over the theta values\n",
    "    lProbEpsilon=np.mean(prob0)\n",
    "    xx=100*np.exp(lProbEpsilon)\n",
    "    # Calculate the Kullback-Leibler divergence\n",
    "    # * Use normal approximation with the expected value = yy to check, how likely xx is\n",
    "    KL=lKumaraswamy(theta, parPhi[0], parPhi[1]) / len(theta) - lNormal(xx, yy, binN*(70/100)*(1-70/100))\n",
    "    return lProbEpsilon - KL\n",
    "\n",
    "def lNormal(x, mu, sigma2):\n",
    "    return np.sum(-0.5*np.log(2*np.pi*sigma2) - 0.5*(x-mu)**2/sigma2)\n",
    "def lKumaraswamy(x, a, b):\n",
    "    return np.sum(np.log(a)+np.log(b)+(a-1)*np.log(x)+(b-1)*np.log(1-x**a))\n",
    "# Function for storing the simulated theta values\n",
    "def CalculateProbability(parPhi, nu):\n",
    "    # Phi is actually log phi, so exponentiate\n",
    "    parPhi=np.exp(parPhi)\n",
    "    return np.mean((1-(1-nu)**(1/parPhi[1]))**(1/parPhi[0]))\n",
    "\n",
    "# Function call\n",
    "# Parameters\n",
    "# Phi0: original values of phi\n",
    "# Initialize with Kumaraswamy(1,1) --> Targetfunction takes exponent, so first parameter is [0,0]\n",
    "parPhi0=np.array([0.0,0.0])\n",
    "# nIterations: number of iterations in the main program\n",
    "parNIterations=500\n",
    "# fTarget: target function\n",
    "parTarget=fTargetBernoulli\n",
    "# fNu: function to simulate nu\n",
    "parFNu=lambda x:npr.uniform(size=x)\n",
    "# nSample: sample size (=length of Nu\n",
    "parNSample=10\n",
    "# fU: function to simulate u\n",
    "parFU=lambda x:npr.normal(size=x)\n",
    "# nParticle: number of particles (=length of u)\n",
    "parNParticle=10\n",
    "# rho_0, t0: parameters defining the step length have default values\n",
    "\n",
    "# L=S=10 (10 particles and 10 simulations, 500 iterations) \n",
    "samplePhi10, sampleLb10, sampleGrad10, sampleTheta10=ABC.avabc(parPhi0,parNIterations,parTarget,parFNu,parNSample,parFU,parNParticle,CalculateProbability)\n",
    "#L=S=1\n",
    "parNSample=1\n",
    "parNParticle=1\n",
    "samplePhi1, sampleLb1, sampleGrad1, sampleTheta1=ABC.avabc(parPhi0,parNIterations,parTarget,parFNu,parNSample,parFU,parNParticle,CalculateProbability)\n",
    "\n",
    "print('Last theta10: ', sampleTheta10[parNIterations-1])\n",
    "print('Last theta1: ', sampleTheta1[parNIterations-1])"
   ]
  },
  {
   "cell_type": "code",
   "execution_count": 31,
   "metadata": {},
   "outputs": [
    {
     "name": "stdout",
     "output_type": "stream",
     "text": [
      "10 particles and simulations: quantiles\n",
      "          0\n",
      "0.00  0.000\n",
      "0.10  0.667\n",
      "0.25  0.684\n",
      "0.50  0.700\n",
      "0.75  0.717\n",
      "0.90  0.730\n",
      "1.00  0.906\n",
      "1 particles and simulations: quantiles\n",
      "          0\n",
      "0.00  0.000\n",
      "0.10  0.552\n",
      "0.25  0.636\n",
      "0.50  0.713\n",
      "0.75  0.770\n",
      "0.90  0.824\n",
      "1.00  0.945\n"
     ]
    }
   ],
   "source": [
    "print('10 particles and simulations: quantiles')\n",
    "print(round((pd.DataFrame(sampleTheta10)).quantile([0, 0.1, 0.25, 0.5,0.75, 0.9, 1]),3))\n",
    "print('1 particles and simulations: quantiles')\n",
    "print(round((pd.DataFrame(sampleTheta1)).quantile([0, 0.1, 0.25, 0.5,0.75, 0.9, 1]),3))\n"
   ]
  },
  {
   "cell_type": "code",
   "execution_count": 32,
   "metadata": {},
   "outputs": [
    {
     "name": "stdout",
     "output_type": "stream",
     "text": [
      "True expected value for posterior theta:  0.696078431372549\n",
      "Mean, median and std of the sample (10 particles and simulations):  0.6984128925321474 0.6998926151095702 0.04150340401129875\n",
      "Mean, median and std of the sample (1 particles and simulations):  0.6956944740781315 0.71278052502594 0.11597048660601329\n"
     ]
    }
   ],
   "source": [
    "print('True expected value for posterior theta: ', (70+1) / ((100-70+1)+70+1))\n",
    "print('Mean, median and std of the sample (10 particles and simulations): ', np.mean(sampleTheta10), np.median(sampleTheta10), np.std(sampleTheta10, ddof=2))\n",
    "print('Mean, median and std of the sample (1 particles and simulations): ', np.mean(sampleTheta1), np.median(sampleTheta1), np.std(sampleTheta1, ddof=2))"
   ]
  },
  {
   "cell_type": "markdown",
   "metadata": {},
   "source": [
    "## Plots as presented in figure 1 (p. 6)"
   ]
  },
  {
   "cell_type": "code",
   "execution_count": 48,
   "metadata": {},
   "outputs": [
    {
     "data": {
      "text/plain": [
       "(array([ 90., 116., 132.,  61.,  34.,  14.,  12.,   6.,   8.,   7.,   5.,\n",
       "          3.,   2.,   1.,   0.,   0.,   0.,   0.,   0.,   0.,   0.,   1.,\n",
       "          0.,   0.,   0.,   0.,   0.,   0.,   0.,   0.,   1.,   0.,   1.,\n",
       "          0.,   0.,   0.,   0.,   0.,   0.,   0.,   0.,   0.,   0.,   0.,\n",
       "          0.,   0.,   0.,   0.,   0.,   1.]),\n",
       " array([-22.77440483, -13.72192376,  -4.66944269,   4.38303838,\n",
       "         13.43551946,  22.48800053,  31.5404816 ,  40.59296267,\n",
       "         49.64544374,  58.69792481,  67.75040588,  76.80288695,\n",
       "         85.85536803,  94.9078491 , 103.96033017, 113.01281124,\n",
       "        122.06529231, 131.11777338, 140.17025445, 149.22273553,\n",
       "        158.2752166 , 167.32769767, 176.38017874, 185.43265981,\n",
       "        194.48514088, 203.53762195, 212.59010302, 221.6425841 ,\n",
       "        230.69506517, 239.74754624, 248.80002731, 257.85250838,\n",
       "        266.90498945, 275.95747052, 285.00995159, 294.06243267,\n",
       "        303.11491374, 312.16739481, 321.21987588, 330.27235695,\n",
       "        339.32483802, 348.37731909, 357.42980017, 366.48228124,\n",
       "        375.53476231, 384.58724338, 393.63972445, 402.69220552,\n",
       "        411.74468659, 420.79716766, 429.84964874]),\n",
       " <a list of 50 Patch objects>)"
      ]
     },
     "execution_count": 48,
     "metadata": {},
     "output_type": "execute_result"
    },
    {
     "data": {
      "image/png": "[encoded data removed]",
      "text/plain": [
       "<Figure size 960x800 with 3 Axes>"
      ]
     },
     "metadata": {},
     "output_type": "display_data"
    }
   ],
   "source": [
    "# Plot results:\n",
    "#fig1, (ax2, ax3,ax3,ax4) = plt.subplots(nrows=2, ncols=2) # two axes on figure\n",
    "fig=plt.figure(figsize=(12, 10), dpi= 80, facecolor='w', edgecolor='k')\n",
    "plt.subplot(221)\n",
    "plt.title('a) Lower bound')\n",
    "plt.plot(sampleLb10)\n",
    "plt.subplot(222)\n",
    "plt.title('b) Sample histogram \\nand true posterior')\n",
    "plt.hist(sampleTheta10, bins=50, density=True)\n",
    "# True posterior is Beta(k+1, M-k+1), M=100, k=70\n",
    "plotx=np.linspace(0.0,0.9, 100)\n",
    "plt.plot(plotx, beta.pdf(plotx, 70+1, 100-70+1))\n",
    "\n",
    "plt.subplot(223)\n",
    "# Calculate gradient for mu\n",
    "plt.title('c) Gradients')\n",
    "plt.hist(sampleGrad10[5:], bins=50)\n",
    "plt.hist(sampleGrad1[5:], bins=50)\n"
   ]
  },
  {
   "cell_type": "markdown",
   "metadata": {},
   "source": [
    "## Problem 2: Infer the rate $\\lambda$ for exponential distribution\n",
    "The prior is $Gamma(\\alpha, \\beta)$ prior and data vector $y$ of M samples from the exponential distribution. The true posterior is $Gamma(\\alpha+M, \\beta+y̅M)$. The simulator draws samples from the exponential distribution.\n",
    "\n",
    "Summary statistics used here are S(**x**)=x̅ and S(**y**)=y̅. \n",
    "\n",
    "True values are $\\lambda$=1 and M=15.\n",
    "\n",
    "At each iteration take samples $\\nu^{(s)}$ from $Q_0(\\nu) ~ N(0,I)$, then calculate:\n",
    "\n",
    "$\\theta = g(\\phi, \\nu^{(s)}) = exp(\\mu, \\Sigma \\cdot \\nu_s)$\n",
    "\n",
    "Initialize both $\\mu$ and $\\Sigma$ by drawing from U(2,3). Convergence parameters are approximately $\\mu=0$ and $\\sigma=0.3$. Use S=10 samples and L=10 particles.\n",
    "\n"
   ]
  },
  {
   "cell_type": "code",
   "execution_count": 74,
   "metadata": {
    "scrolled": false
   },
   "outputs": [
    {
     "name": "stdout",
     "output_type": "stream",
     "text": [
      "Target mean is:  0.8737219567281532\n"
     ]
    },
    {
     "name": "stderr",
     "output_type": "stream",
     "text": [
      "C:\\Users\\Suvi\\Anaconda3\\lib\\site-packages\\autograd\\tracer.py:48: RuntimeWarning: overflow encountered in exp\n",
      "  return f_raw(*args, **kwargs)\n",
      "C:\\Users\\Suvi\\Anaconda3\\lib\\site-packages\\autograd\\numpy\\numpy_vjps.py:53: RuntimeWarning: overflow encountered in square\n",
      "  lambda ans, x, y : unbroadcast_f(y, lambda g: - g * x / y**2))\n",
      "C:\\Users\\Suvi\\Anaconda3\\lib\\site-packages\\ipykernel_launcher.py:35: RuntimeWarning: underflow encountered in true_divide\n",
      "C:\\Users\\Suvi\\Anaconda3\\lib\\site-packages\\ipykernel_launcher.py:35: RuntimeWarning: underflow encountered in multiply\n",
      "C:\\Users\\Suvi\\Anaconda3\\lib\\site-packages\\numpy\\core\\_methods.py:78: RuntimeWarning: underflow encountered in true_divide\n",
      "  ret, rcount, out=ret, casting='unsafe', subok=False)\n"
     ]
    },
    {
     "name": "stdout",
     "output_type": "stream",
     "text": [
      "Returning values\n"
     ]
    },
    {
     "name": "stderr",
     "output_type": "stream",
     "text": [
      "C:\\Users\\Suvi\\Anaconda3\\lib\\site-packages\\autograd\\numpy\\numpy_vjps.py:73: RuntimeWarning: invalid value encountered in multiply\n",
      "  defvjp(anp.exp,    lambda ans, x : lambda g: ans * g)\n"
     ]
    },
    {
     "name": "stdout",
     "output_type": "stream",
     "text": [
      "Returning values\n"
     ]
    }
   ],
   "source": [
    "#%reset\n",
    "\n",
    "import autograd.numpy as np\n",
    "import autograd.numpy.random as npr\n",
    "import autograd\n",
    "import matplotlib.pyplot as plt\n",
    "%matplotlib inline\n",
    "from scipy.special import binom\n",
    "from scipy.special import gamma\n",
    "from scipy.misc import derivative\n",
    "from scipy.stats import beta\n",
    "from scipy.stats import gamma\n",
    "from scipy.stats import lognorm\n",
    "import math\n",
    "\n",
    "\n",
    "npr.seed(42)\n",
    "\n",
    "# ABC.py must be in the same directory as this notebook\n",
    "import ABC\n",
    "import importlib\n",
    "importlib.reload(ABC)\n",
    "\n",
    "# 2 Exponential problem\n",
    "## Target functions\n",
    "def TargetExponential(parPhi,nu, u, yyMean, printInfo=False, M=15):\n",
    "    # phi[0]: mu (not restricted)\n",
    "    # phi[1]: sigma(>0)\n",
    "    mu=(parPhi[0])\n",
    "    sigma=np.exp(parPhi[1])\n",
    "    theta = np.exp(mu+sigma*nu)\n",
    "    if printInfo: print('TargetExponential, theta is: ', theta)\n",
    "    # Generate x-values from u-values and theta-values\n",
    "    # First create a matrix with u-values in columns and theta values in rows\n",
    "    xx0=(-1/(np.exp(theta)) * np.log(1-u[:,np.newaxis]))\n",
    "    # Row means to get x-values\n",
    "    xx1=np.mean(xx0, axis=0)\n",
    "    if printInfo: print('xx0.shape,xx1.shape: ', xx0.shape, xx1.shape)\n",
    "    # Variance parameter for comparion of the true value and generated values\n",
    "    epsilon2=np.std(xx1)**2/M\n",
    "    # If epsilon = 0, then the sampler breaks, so it has to be at least a small float\n",
    "    if epsilon2==0.0: epsilon2=0.000001\n",
    "    # Calculate the mean of log-probabilities\n",
    "    if printInfo: print('xx1, yyMean, epsilon2: ', xx1, yyMean, epsilon2)\n",
    "    lProbEpsilon=lNormal(xx1, yyMean, epsilon2)/len(theta)\n",
    "    if printInfo: print('fTargetExponential,lProbEpsilon: ', lProbEpsilon)\n",
    "      \n",
    "    # Calculate the Kullback-Leibler divergence\n",
    "    KL=lNormal(np.log(theta), mu, sigma)/len(theta)-lExponential(yyMean, M, theta)/len(theta)\n",
    "    if printInfo: print('***fTargetExponential, KL: ', KL)\n",
    "    if printInfo: print('***fTargetExponential, KL, 1: ', lNormal(np.log(theta), mu, sigma), len(theta))\n",
    "    if printInfo: print('***fTargetExponential, KL, 2: ', lExponential(yyMean, M, theta)/len(theta))             \n",
    "    return lProbEpsilon - KL\n",
    "\n",
    "def lNormal(x, mu, sigma2):\n",
    "    return np.sum(-0.5*np.log(2*np.pi*sigma2) - 0.5*(x-mu)**2/sigma2)\n",
    "\n",
    "def lLognormal(x, mu, sigma):\n",
    "    if sigma == 0.0: sigma=0.00000001\n",
    "    if float(\"-inf\")==np.sum(-np.log(x)-np.log(sigma)-0.5*np.log(2*np.pi)-1/(2*sigma**2)*((np.log(x)-mu)**2)):\n",
    "        print('lLognormal produced -inf')\n",
    "    return np.sum(-np.log(x)-np.log(sigma)-0.5*np.log(2*np.pi)-1/(2*sigma**2)*((np.log(x)-mu)**2))\n",
    "\n",
    "def lExponential(meanX, n, theta0):\n",
    "    return np.sum(n*np.log(theta0) - theta0*n*meanX)\n",
    "def CalculateLambda(parPhi, nu):\n",
    "    return np.mean(np.exp(parPhi[0]+np.exp(parPhi[1])*nu))\n",
    "\n",
    "# Function call\n",
    "# Parameters\n",
    "# Phi0: original values of phi\n",
    "# Unitialize with U(2,3)\n",
    "parPhi0=npr.uniform(low=2.0, high=3.0, size=2)\n",
    "# Sigma needs to be positive, so it is exponentiated later, thus taking a logarithm\n",
    "parPhi0[1]=np.log(parPhi0[1])\n",
    "# nIterations: number of iterations in the main program\n",
    "parNIterations=3500\n",
    "# fTarget: target function: fTargetExponential\n",
    "# fNu: function to simulate nu\n",
    "parFNu=lambda x:npr.normal(size=x)\n",
    "# nSample: sample size (=length of Nu\n",
    "parNSample=10\n",
    "# fU: function to simulate u\n",
    "parFU=lambda x:npr.uniform(size=x)\n",
    "# nParticle: number of particles (=length of u)\n",
    "parNParticle=10\n",
    "# rho_0, t0: parameters defining the step length have default values\n",
    "\n",
    "# Simulate S(y)=mean(y) from exponential distribution M=1,lambda=1.0\n",
    "targetMean=np.mean(npr.exponential(scale=1.0, size=15))\n",
    "print('Target mean is: ', targetMean)\n",
    "TargetExponential2=lambda parPhi,nu, u: TargetExponential(parPhi,nu, u, yyMean=targetMean)\n",
    "\n",
    "# Parameters of avabc-function\n",
    "# Phi0: original values of phi\n",
    "# nIterations: number of iterations in the main program\n",
    "# fTarget: target function\n",
    "# fNu: function to simulate nu\n",
    "# nSample: sample size (=length of Nu)\n",
    "# fU: function to simulate u\n",
    "# nParticle: number of particles (=length of u)\n",
    "# rho_0, t0: parameters defining the step length\n",
    "np.seterr('warn')\n",
    "samplePhi10, sampleLb10, sampleGrad10, sampleTheta10=ABC.avabc(parPhi0,parNIterations,TargetExponential2,parFNu,parNSample,parFU,parNParticle, CalculateLambda,printInfo=False,rho_0=0.05, t0=500)\n",
    "parNSample=1; parNParticle=1\n",
    "samplePhi1, sampleLb1, sampleGrad1, sampleTheta1=ABC.avabc(parPhi0,parNIterations,TargetExponential2,parFNu,parNSample,parFU,parNParticle, CalculateLambda,printInfo=False,rho_0=0.05, t0=500)"
   ]
  },
  {
   "cell_type": "code",
   "execution_count": 75,
   "metadata": {},
   "outputs": [
    {
     "name": "stdout",
     "output_type": "stream",
     "text": [
      "Converge parameters are mu=0.0 and sigma=0.3\n",
      "In the data corresponding parameters are:  -0.9258137163804507 0.3367651762141699\n",
      "Lambda is set to one\n",
      "In the sample mean and median of theta:  1.1635570282121823 0.8346921502668272\n"
     ]
    }
   ],
   "source": [
    "print('Converge parameters are mu=0.0 and sigma=0.3')\n",
    "print('In the data corresponding parameters are: ', np.mean(samplePhi10[:,0]), (np.mean(samplePhi10[:,1])))\n",
    "print('Lambda is set to one')\n",
    "print('In the sample mean and median of theta: ', np.mean(sampleTheta10), np.median(sampleTheta10))"
   ]
  },
  {
   "cell_type": "code",
   "execution_count": 76,
   "metadata": {},
   "outputs": [
    {
     "data": {
      "text/plain": [
       "(array([1.000e+00, 0.000e+00, 0.000e+00, 0.000e+00, 0.000e+00, 0.000e+00,\n",
       "        0.000e+00, 0.000e+00, 0.000e+00, 0.000e+00, 0.000e+00, 0.000e+00,\n",
       "        0.000e+00, 0.000e+00, 0.000e+00, 0.000e+00, 0.000e+00, 0.000e+00,\n",
       "        0.000e+00, 0.000e+00, 0.000e+00, 0.000e+00, 0.000e+00, 0.000e+00,\n",
       "        1.000e+00, 0.000e+00, 3.000e+00, 0.000e+00, 0.000e+00, 2.000e+00,\n",
       "        1.000e+00, 1.000e+00, 0.000e+00, 2.000e+00, 1.000e+00, 2.000e+00,\n",
       "        1.000e+00, 4.000e+00, 1.000e+00, 4.000e+00, 0.000e+00, 3.000e+00,\n",
       "        3.000e+00, 3.000e+00, 6.000e+00, 1.100e+01, 2.300e+01, 3.900e+01,\n",
       "        3.310e+02, 3.047e+03]),\n",
       " array([-858926.19357683, -841471.13081206, -824016.06804728,\n",
       "        -806561.00528251, -789105.94251774, -771650.87975297,\n",
       "        -754195.81698819, -736740.75422342, -719285.69145865,\n",
       "        -701830.62869388, -684375.5659291 , -666920.50316433,\n",
       "        -649465.44039956, -632010.37763479, -614555.31487001,\n",
       "        -597100.25210524, -579645.18934047, -562190.1265757 ,\n",
       "        -544735.06381093, -527280.00104615, -509824.93828138,\n",
       "        -492369.87551661, -474914.81275184, -457459.74998706,\n",
       "        -440004.68722229, -422549.62445752, -405094.56169275,\n",
       "        -387639.49892797, -370184.4361632 , -352729.37339843,\n",
       "        -335274.31063366, -317819.24786888, -300364.18510411,\n",
       "        -282909.12233934, -265454.05957457, -247998.99680979,\n",
       "        -230543.93404502, -213088.87128025, -195633.80851548,\n",
       "        -178178.74575071, -160723.68298593, -143268.62022116,\n",
       "        -125813.55745639, -108358.49469162,  -90903.43192684,\n",
       "         -73448.36916207,  -55993.3063973 ,  -38538.24363253,\n",
       "         -21083.18086775,   -3628.11810298,   13826.94466179]),\n",
       " <a list of 50 Patch objects>)"
      ]
     },
     "execution_count": 76,
     "metadata": {},
     "output_type": "execute_result"
    },
    {
     "data": {
      "image/png": "[encoded data removed]",
      "text/plain": [
       "<Figure size 960x800 with 3 Axes>"
      ]
     },
     "metadata": {},
     "output_type": "display_data"
    }
   ],
   "source": [
    "\n",
    "# Plot results:\n",
    "#fig1, (ax2, ax3,ax3,ax4) = plt.subplots(nrows=2, ncols=2) # two axes on figure\n",
    "fig=plt.figure(figsize=(12, 10), dpi= 80, facecolor='w', edgecolor='k')\n",
    "plt.subplot(221)\n",
    "plt.title('a) Lower bound')\n",
    "plt.plot(sampleLb10)\n",
    "plt.subplot(222)\n",
    "plt.title('b) Sample histogram \\nand true posterior')\n",
    "#plt.hist(sampleTheta10, bins=25, density=True)\n",
    "plt.hist(sampleTheta10[sampleTheta10<10], bins=30, density=True)\n",
    "# True posterior is Gamma(alpha=), alpha=, beta=70\n",
    "plotx=np.linspace(0.0,3.0, 100)\n",
    "plt.plot(plotx, gamma.pdf(plotx, a=4.0, scale=0.2))\n",
    "plt.subplot(223)\n",
    "# Calculate gradient for mu\n",
    "plt.title('c) Gradients')\n",
    "plt.hist(sampleGrad10[10:], bins=50)\n",
    "# I was not able to calculate particle=1, simulation=1 properly\n"
   ]
  }
 ],
 "metadata": {
  "kernelspec": {
   "display_name": "Python 3",
   "language": "python",
   "name": "python3"
  },
  "language_info": {
   "codemirror_mode": {
    "name": "ipython",
    "version": 3
   },
   "file_extension": ".py",
   "mimetype": "text/x-python",
   "name": "python",
   "nbconvert_exporter": "python",
   "pygments_lexer": "ipython3",
   "version": "3.6.5"
  }
 },
 "nbformat": 4,
 "nbformat_minor": 2
}
